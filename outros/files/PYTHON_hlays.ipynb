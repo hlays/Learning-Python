{
 "cells": [
  {
   "cell_type": "markdown",
   "metadata": {},
   "source": [
    "#### *Lays Marie Hidani - Notebook*"
   ]
  },
  {
   "cell_type": "markdown",
   "metadata": {},
   "source": [
    "# Python\n",
    "\n"
   ]
  },
  {
   "cell_type": "markdown",
   "metadata": {},
   "source": [
    "- Linguagem de alto nível (mais próximo da linguagem humana)\n",
    "\n",
    "- Multiplataforma\n",
    "\n",
    "- Opensource\n",
    "\n",
    "- Forte no mercado\n",
    "\n",
    "- Forte suporte da comunidade\n",
    "\n",
    "- Forte documentação\n",
    "\n",
    "- Dinâmica\n",
    "\n",
    "- Interage bem com outras linguagens\n",
    "\n",
    "- Fácil de aprender\n",
    "\n",
    "- Vasta biblioteca padrão\n",
    "\n",
    "Documentação oficial: <https://www.python.org/doc/>"
   ]
  },
  {
   "cell_type": "markdown",
   "metadata": {},
   "source": [
    "# Como escrever um programa em Python\n",
    "> A maneira mais simples para escrever um programa em Python é utilizando um editor de texto. Assim, usando qualquer editor, você pode criar um programa e salvá-lo em um arquivo (com extesão .py).\n",
    "Para executar o programa basta digitar \"python nome_do_programa.py\" em um terminal, a partir do mesmo diretório onde o programa foi salvo.\n",
    "Os editores de texto comuns, no entanto, não oferecem muitos recursos para edição de programas em Python.\n",
    "    > Retirado de: <https://panda.ime.usp.br/panda/static/data/python/ide.html>\n",
    "\n",
    "## IDEs\n",
    "*(Ambiente integrado de desevolvimento de programas (ou IDE do inglês Integrated Development Environment)*\n",
    "\n",
    "- __[PyCharm](http://www.jetbrains.com/pycharm)__ Meu IDE preferido. É bastante customizável. Facilita a programação com 'autocompletar' e dá dicas para que seu código esteja nas normas do PEP 8.\n",
    "\n",
    "\n",
    "## REPLs alternativos\n",
    "(implementação interativa)\n",
    "\n",
    "* *Gosto dos notebooks para criar cadernos de aprendizado como este próprio, pois possibilitam entrada de texto (markdown) e código.. é ótimo para criar exemplos..*\n",
    "* *Pelo fato de ser interativo, é ótimo para testar códigos mais rapidamente durante a aprendizagem, pois basta teclar* **ctrl + ENTER** *para executar um código rapidamente após escrevê-lo, e o output já sai na linha de baixo..*\n",
    "\n",
    "- __[Pacote Anaconda](https://www.anaconda.com/download/)__ vem com as famosas aplicações:\n",
    "    - Jupyter Notebook\n",
    "    - Jupyterlab\n",
    "    - Spyder\n",
    "    - Outras\n",
    "    \n",
    "\n",
    "## Editores de texto\n",
    "\n",
    "- __[Sublime Text](http://www.sublimetext.com)__ Por ser um editor de texto, é muito mais leve e abre muito mais rapidamente do que o PyCharm. Pode ser amplamente 'configurado'/'estilizado' para ficar ao gosto do programador.\n",
    "    Complementos para deixar o Sublime text ainda melhor:\n",
    "    - __[Install Package Control](https://packagecontrol.io/installation#st3)__ Antes de tudo, instale o Install Package Control, com ele vai ficar muito mais fácil instalar outros package. (no Sublime 3, tecle CTRL + ', vai abrir um console na parte inferior, nele você vai colar o código que está no link do Install Package Control e teclar ENTER. Depois de instalado, basta teclar CTRL + p, e digitar no console que abrirá na parte superior: \n",
    "    \n",
    "        - Install package (para instalar um novo plugin), ENTER, Nome do plugin, ENTER\n",
    "        \n",
    "        - Remove package (para desinstalar um plugin), ENTER, Nome do plugin, ENTER\n",
    "        \n",
    "        - Disable package (para desativar um plugin) // // // \n",
    "        \n",
    "        - Enable package (para ativar um plugin) // // // \n",
    "     \n",
    "      \n",
    "    \n",
    "    - Anaconda\n",
    "    \n",
    "    - Python PEP8 Autoformat\n",
    "    \n",
    "    - Jedi\n",
    "\n",
    "\n",
    "\n"
   ]
  },
  {
   "cell_type": "markdown",
   "metadata": {},
   "source": [
    "# Livros recomendados\n",
    "__[Clique p/ acessar Minha Pasta no GDrive](https://drive.google.com/open?id=1RnAIlg5iiw20kD0zcg6S56vYIQu_k2VN)__\n",
    "\n",
    "- **Curso Intensivo de Python Uma** - Eric Matthes\n",
    "\n",
    "- **Automatize tarefas macantes com PYTHON **- Al Sweigart\n",
    "\n",
    "- **Python Fluente **- Luciano Ramalho *(ainda não tenho)**\n",
    "\n",
    "- **Python CookBook - Receitas para dominar Python 3** - Alex Martelli, David Ascher, Anna Martelli Ravenscroft\n",
    "\n",
    "- **Dive Into Python 3** - Mark Pilgrim\n",
    "\n",
    "- **Python_para_desenvolvedores_2ed**\n",
    "\n",
    "- **Invent Your Own Computer Games** - Al Sweigart\n",
    "\n",
    "- **Making Games** - Al Sweigart\n",
    "\n"
   ]
  },
  {
   "cell_type": "markdown",
   "metadata": {},
   "source": [
    "# Links úteis:\n",
    "\n",
    "### Para tirar dúvidas:\n",
    "\n",
    "- __[StackOverflow BR ](https://pt.stackoverflow.com/)__ Fórum - em português\n",
    "\n",
    "- __[StackOverflow](https://stackoverflow.com)__ Fórum - em inglês\n",
    "\n",
    "\n",
    "### Para consultar \n",
    "\n",
    "- __[Python.org](https://www.python.org/)__ (inglês) Página oficial do Python, dá para baixar o Python e tem acesso a toda a documentação.\n",
    "\n",
    "- __[The Python Guru:](https://thepythonguru.com/)__ (inglês) Um ótimo tutorial em texto sobre Python \n",
    "\n",
    "- __[W3Schools:](https://www.w3schools.com/python/default.asp)__ (inglês) Vários exemplos e materiais\n",
    "\n",
    "- __[CookBook da Wiki Python BR:](https://wiki.python.org.br/CookBook)__ Trechos de código como referência\n",
    "\n",
    "- __[Wiki Python BR - geral:](https://wiki.python.org.br/PythonBrasil)__ Vários informações sobre Python\n",
    "\n",
    "\n",
    "### Para exercitar:\n",
    "\n",
    "- __[Lista de exercícios do Wiki Python BR](https://wiki.python.org.br/ListaDeExercicios)__ Recomendada lista de exercícios para treinar durante a aprendizagem\n",
    "\n",
    "- __[Codingbat](https://codingbat.com/python)__ (inglês) exercícios feitos na própria plataforma\n",
    "\n",
    "- __[Coderbat](https://www.coderbyte.com/)__ (inglês) exercícios feitos na própria plataforma\n",
    "\n",
    "### Exemplos:\n",
    "\n",
    "- __[Scripts Python](https://www.scriptbrasil.com.br/codigos/python/)__ Vários códigos em Python\n",
    "\n",
    "\n",
    "### Outros:\n",
    "\n",
    "- __[Markdown CheatSheet JupyterNotebook - IBM:](https://www.ibm.com/support/knowledgecenter/en/SSQNUZ_1.1.0/dsx/markd-jupyter.html)__ Formatar textos com Markdown no JupyterNotebook\n",
    "\n",
    "- __[PEP 8 - Guia de estilo](https://www.python.org/dev/peps/pep-0008/)__ Guia oficial de estilo. \"O jeito correto de escrever o código\".\n",
    "\n",
    "- __[Guia comparativo de código do antigo para o novo](https://pyformat.info/)__\n",
    "\n",
    "### Para aprender:\n",
    "\n",
    "- __[Introdução à Computação com Python - PandaUSP](https://panda.ime.usp.br/cc110/static/cc110/index.html#introducao-a-computacao-com-python)__\n",
    "\n",
    "- __[Princípios de Desenvolvimento de Algoritmos em Python - PandaUSP](https://panda.ime.usp.br/algoritmos/static/algoritmos/index.html)__\n",
    "\n",
    "- __[Aulas em Python: Edição interativa - PandaUSP](https://panda.ime.usp.br/aulasPython/static/aulasPython/index.html)__\n",
    "\n",
    "- __[Livro: Python Practice Book](https://anandology.com/python-practice-book/index.html)__\n",
    "\n",
    "- __[DevFuria - Artigos e curso Python:](http://www.devfuria.com.br/python/)__ Várias informações importantes\n",
    "\n",
    "- __[Livro: Como Pensar como um cientista da computação](http://www3.ifrn.edu.br/~jurandy/fdp/doc/aprenda-python/apresentacao.html)__ livro traduzido para o português (leitura online)\n",
    "\n",
    "- __[Green Tea Press - Free books by Allen B. Downey](https://greenteapress.com/wp/)__ (inglês) Ler ou baixar gratuitamente livros do Allen Downey, como o Think Python.\n",
    "\n",
    "- __[Livro: Problem Solving with Algorithms and Data Structures using Python](http://interactivepython.org/runestone/static/pythonds/index.html)__\n",
    "\n",
    "\n",
    "### Livros p/ Download:\n",
    "\n",
    "- __[Python Books](https://pythonbooks.revolunet.com/)__ (inglês)\n",
    "\n",
    "- __[Al Sweigart (Automatize tarefas maçantes com Python)](http://inventwithpython.com/invent4thed/)__ (inglês) livros, recursos de livros do próprio autor.\n",
    "\n",
    "\n",
    "### Referências: Programadores\n",
    "\n",
    "- **Kenneth Reitz**\n",
    "    - __[Site Pessoal](https://www.kennethreitz.org/)__\n",
    "    - __[Github](https://github.com/kennethreitz)__\n",
    "    - __[Requests](http://docs.python-requests.org/pt_BR/latest/)__\n",
    "    \n",
    "- **Raymond Hettinger**\n",
    "    - __[Site Pessoal](https://rhettinger.wordpress.com/)__\n",
    "    - __[Github](https://github.com/rhettinger)__\n",
    "\n",
    "\n",
    "\n",
    "\n"
   ]
  },
  {
   "cell_type": "markdown",
   "metadata": {},
   "source": [
    "# Plataformas de Cursos gratuitos recomendados:\n",
    "\n",
    "- **CursoEmVideo** <https://www.cursoemvideo.com/>\n",
    "    * Tem certificado\n",
    "    * Português\n",
    "    * Ótimo para aprender o básico\n",
    "    \n",
    "    \n",
    "- **Python para Zumbis** <https://www.pycursos.com/python-para-zumbis/>\n",
    "    * Ótimo curso, porém desatualizado (Python 2)\n",
    "    * Dá para aprender bastante\n",
    "    \n",
    "    \n",
    "- **DataCamp** <https://www.datacamp.com/>\n",
    "    * Tem certificado\n",
    "    * Inglês\n",
    "    * Bom para praticar, serve mais como um complemento\n",
    "    * Tem cursos pagos também\n",
    "    \n",
    "    \n",
    "- **Udacity** <https://br.udacity.com> \n",
    "    * Não tem certificado para cursos gratuitos\n",
    "    * Inglês\n",
    "    * Recomendado já ter algum conhecimento básico\n",
    "    * Tem cursos pagos também\n",
    "    \n",
    "    \n",
    "- **BitDegree** <https://stude.co/400073>\n",
    "    * Tem certificado\n",
    "    * Inglês\n",
    "    * Bom para praticar, serve mais como um complemento\n",
    "    \n",
    "    \n",
    "- **PyCubator** <http://df.python.org.br/pycubator/>\n",
    "    * Em forma de texto\n",
    "    * Em inglês"
   ]
  },
  {
   "cell_type": "markdown",
   "metadata": {},
   "source": [
    "# Cursos feitos/tenho:\n",
    "\n",
    "- **Curso de Python 3 – Mundo 01: Fundamentos**\n",
    "\n",
    "    Plataforma: cursoemvideo.com\n",
    "    Link: <Acesso>\n",
    "    Idioma: português\n",
    "    Status: concluído\n",
    "    Nota (0/5): 4,8\n",
    "    obs: online - tem certificado\n",
    "    <extra>: Minha lista de exercícios resolvidos\n",
    "\n",
    "- **Python 3 COMPLETO - Do iniciante ao avançado!** - Guia DEFINITIVO da linguagem de programação mais usada por analistas de dados e Machine Learning do momento!\n",
    "\n",
    "    * Plataforma: Udemy\n",
    "    * Link: <Acesso Udemy>\n",
    "    * Idioma: português\n",
    "    * Status: cursando\n",
    "    * Nota (0/5): 4,5\n",
    "    * obs: Tenho Download\n",
    "\n",
    "- **PYTHON: Programação para Ciência e Engenharia** - Programação em Python, do básico ao avançado, com orientação para computação científica e engenharia.\n",
    "\n",
    "    * Plataforma: Udemy\n",
    "    Link: <Acesso Udemy>\n",
    "    Idioma: português\n",
    "    Status: cursando\n",
    "    Nota (0/5): 4,5\n",
    "    obs: Tenho Comprei\n",
    "\n",
    "- **Curso Python 3 Avançado - Aprenda recursos avançados da linguagem Python**\n",
    "    \n",
    "    * Plataforma: Udemy\n",
    "    Link: <Acesso Udemy>\n",
    "    Idioma: português\n",
    "    Status: ainda não iniciado\n",
    "    Nota (0/5): \n",
    "    obs: Tenho Comprei\n",
    "\n",
    "- **The Complete Python 3 Course: Beginner to Advanced!** - Learn Python with projects covering game & web development, web scraping, MongoDB, Django, PyQt, and data visualization!\n",
    "\n",
    "    * Plataforma: Udemy\n",
    "    Link: <Acesso Udemy>\n",
    "    Idioma: inglês\n",
    "    Status: cursando\n",
    "    Nota (0/5): 4\n",
    "    obs: Tenho Comprei (Cupom 100% de desconto)\n",
    "\n",
    "- **The Python Mega Course: Build 10 Real World Applications** - The only Python course covering web, databases, web scraping, data science, web visualizations, image processing & more!\n",
    "   \n",
    "    Plataforma: Udemy\n",
    "    Link: <Acesso Udemy>\n",
    "    Idioma: inglês\n",
    "    Status: cursando\n",
    "    Nota (0/5): 4\n",
    "    obs: Download\n",
    "\n"
   ]
  },
  {
   "cell_type": "markdown",
   "metadata": {},
   "source": [
    "# Aprendendo PYTHON"
   ]
  },
  {
   "cell_type": "markdown",
   "metadata": {},
   "source": [
    "## Algumas Convenções:\n",
    "\n",
    "- Convenções de estilo completa. verificar PEP 8 <https://www.python.org/dev/peps/pep-0008/#code-lay-out>\n",
    "\n",
    "    - Ex:     \n",
    "    \n",
    "    -> não é legal\n",
    "    import os, math \n",
    "    \n",
    "    \n",
    "    -> o melhor é:\n",
    "    import os\n",
    "    import math\n",
    "    \n",
    "    mas, pode se for from-import: \n",
    "    from subprocess import Popen, PIPE\n",
    "    \n",
    "    \n",
    "    -> outro ex:\n",
    "    \n",
    "    Yes: x = 8*5 + 4*3   -> separar apenas operadores de diferentes prioridades\n",
    "    Yes: i = i + 1\n",
    "    \n",
    "    NO: x = 8 * 5 + 4 * 3 \n",
    "    \n",
    "    \n",
    "    -> outro ex:\n",
    "    \n",
    "    Yes: if x == 4: print x, y; x, y = y, x\n",
    "    No:  if x == 4 : print x , y ; x , y = y , x\n",
    "    \n",
    "              \n",
    "- (#) Utiliza-se # seguido do texto, para inserir comentários no código. Esses comentários não serão vísiveis no programa, somente no código e auxiliam a organizar e informar sobre trechos do código tanto para você mesmo quanto para trabalhos em equipe.\n",
    "\n",
    "- Há uma convenção de que não se deve usar mais do que 72 caractéres por linha no código, a fim de torná-lo mais legível e organizado.\n",
    "\n",
    "- Indentação: utilizar 4 espaços (dá para configurar a tecla **tab** em alguns IDE p/ fazer essa identação correta de 4 espaços). Utiliza-se identação para separar blocos de código.\n",
    "\n",
    "- Quando o texto de uma string é muito longo, usa-se '''texto''' -> 3 haspas ao invés de 1.\n",
    "\n",
    "- A contagem de posição de um caracter ou elemento sempre começa em 0, ou seja: \n",
    "    \n",
    "    'Olá' -> \n",
    "    O = posição 0\n",
    "    \n",
    "    l = posição 1\n",
    "    \n",
    "    á = posição 2\n",
    "    \n",
    "    \n",
    "    ex:\n",
    "    lista = [1, 2, 3]\n",
    "    \n",
    "    1 = posição 0 \n",
    "    \n",
    "    2 = posição 1 \n",
    "    \n",
    "    3 = posição 2\n",
    "    \n",
    "- Utiliza-se -1, -2, -3, n para contar inversamente. (do último para o primeiro)\n",
    "\n",
    "- Você pode unir strings em um **print** utlizando (+):\n",
    "    * Exemplo:\n",
    "    \n",
    "    first_name = 'Lays'\n",
    "    \n",
    "    middle_name = 'Marie'\n",
    "    \n",
    "    print('O nome é: ' + first_name + middle_name)\n",
    "    \n",
    "- Você pode unir diferentes tipos de dados em um **print** utlizando (,):\n",
    "    * Exemplo:\n",
    "    \n",
    "    first_name = 'Lays'\n",
    "    \n",
    "    middle_name = 'Marie'\n",
    "    \n",
    "    age = 28\n",
    "    \n",
    "    print('O nome é: ', first_name, middle_name, '. ' 'Idade: ', 28, ' anos.')\n",
    "    \n",
    " \n",
    "- Em **print** Utiliza-se {} para preencher um texto (string) com um valor e depois utiliza-se *'.format(variavel ou expressão)'* para associar o valor.\n",
    "\n",
    "    * exemplo:\n",
    "    \n",
    "    - nome = 'Lays'\n",
    "    \n",
    "    - print('Meu nome é {}' .format(nome))\n",
    "    \n",
    "        - resultado esperado: >>> *Meu nome é Lays*\n",
    "        \n",
    "    \n",
    "- Utiliza-se {:.xf} -> x é o número de casas decimais\n",
    "    \n",
    "    - {:.2f} por exemplo para imprimir um float com duas casas decimais\n",
    "    \n",
    "    - print('10 divido por 3 = {:.2f}' .format(10 / 3))\n",
    "    \n",
    "        - resultado esperado:  >>>  *10 dividido por 3 = 3.33*\n",
    "        \n",
    "    \n",
    "- Utiliza-se {:,} para separar um nº grande por ','.\n",
    "\n",
    "    - numero = 1000000\n",
    "    \n",
    "    - print('O nº é {:,}' .format(numero))\n",
    "     \n",
    "         - resultado esperado:   >>> 1,000,000\n",
    "\n"
   ]
  },
  {
   "cell_type": "markdown",
   "metadata": {},
   "source": [
    "# Variáveis\n",
    "\n",
    "- Exemplo:\n",
    "\n",
    "- x = 30\n",
    "\n",
    "- y = 'Olá Mundo!'\n",
    "\n",
    "Onde:\n",
    "x e y -> São variáveis\n",
    "30 e 'Olá mundo!' são os dados recebidos ('=' significa 'recebe') pela variável correspondente.\n",
    "\n",
    "## Atribuir nome para variáveis:\n",
    "- Python diferencia letras maiúsculas e minúsculas\n",
    "- O nome da variável pode ter letras, números e '_'\n",
    "- Sempre começar com letras\n",
    "- Nunca utilizar espaço\n",
    "- Em Python, existem palavras reservadas que não podem ser usadas para nomear variáveis, pois elas já estão atribuídas para definir regras e estrutura da linguagem, por isso são reservadas. São elas:\n",
    "\n",
    "and\texec\tnot\n",
    "assert\tfinally\tor\n",
    "break\tfor\tpass\n",
    "class\tfrom\tprint\n",
    "continue\tglobal\traise\n",
    "def\tif\treturn\n",
    "del\timport\ttry\n",
    "elif\tin\twhile\n",
    "else\tis\twith\n",
    "except\tlambda\tyield"
   ]
  },
  {
   "cell_type": "markdown",
   "metadata": {},
   "source": [
    "## Tipos de dados básicos:\n",
    "\n",
    "- Números:\n",
    "    * (int)     -> Inteiros -> ex: -3, -2, -1, 0, 1, 2, 3\n",
    "    * (float)   -> Ponto flutuante/Decimal -> ex: 4.81 (em Python, usa-se '.' ao invés de ',').\n",
    "    * (long)    -> Longo -> ex: 25989506564809890\n",
    "    * (complex) -> Complexos -> ex: 5 + 8j\n",
    " \n",
    " \n",
    "- String (texto):\n",
    "    * (str)     -> Texto -> ex: 'letra', '10', 'Olá mundo!' (em python, toda string vai dentro de '')\n",
    "    * (unicode) -> Unicode\n",
    "  \n",
    "  \n",
    "- List (listas):\n",
    "    * list = [ ]\n",
    "        \n",
    "        ex: \n",
    "        \n",
    "        lista_1 = [0, 1, 2, 3]\n",
    "        lista_2 = [0, '1', '2', 3, 'livro']\n",
    "    \n",
    "    \n",
    "- Tuplas:\n",
    "    (A diferença das tuplas para as listas, é que as tuplas são IMUTÁVEIS)\n",
    "    * Tupla = ( )\n",
    "    \n",
    "    ex:\n",
    "    tupla1 = (0, 1, 2)\n",
    "\n",
    "- Arquivo\n",
    "\n",
    "- Booleanos:\n",
    "    * (bool):\n",
    "    \n",
    "    -> True \n",
    "    -> False\n",
    "    \n",
    "    \n",
    "- Conjuntos:\n",
    "    * set\n",
    "    * frozenset\n",
    "   \n",
    "   \n",
    "- None\n",
    "\n"
   ]
  },
  {
   "cell_type": "markdown",
   "metadata": {},
   "source": [
    "## Operadores aritméticos\n",
    "\n",
    "- soma           ->   (+)   ->  ex: 8 + 4 \n",
    "- subtração      ->   (-)   ->  ex: 8 - 4\n",
    "- multiplicação  ->   (*)   ->  ex: 8 * 4\n",
    "- divisão        ->   (/)   ->  ex: 8 / 4\n",
    "- exponenciação  ->   (**)  ->  ex  8 ** 2  (resp = 64)\n",
    "- parte inteira  ->   (//)  ->  ex: 8 // 5  (resp = 1, 1 parte inteira de divisão de 8 por 5)\n",
    "- módulo         ->   (%)   ->  ex: 8 % 5   (resp = 3, é o resto da divisão de 8 por 5)\n"
   ]
  },
  {
   "cell_type": "markdown",
   "metadata": {},
   "source": [
    "## Operadores relacionais\n",
    "\n",
    "- Igual a\t           (==)\n",
    "- Diferente            (!=)\n",
    "- Maior que\t           (>)\n",
    "- Menor que\t           (<)\n",
    "- Maior ou igual a\t   (>=)\n",
    "- Menor ou igual a\t   (<=)\n"
   ]
  },
  {
   "cell_type": "markdown",
   "metadata": {},
   "source": [
    "## Operadores lógicos\n",
    "\n",
    "- and   ->  ex: if x > 2 **and** y > 3\n",
    "    \n",
    "- or    ->  ex: if x > 2 **or** y > 3\n",
    "    \n",
    "- not   ->  ex: if x **not** in lista\n",
    "    "
   ]
  },
  {
   "cell_type": "markdown",
   "metadata": {},
   "source": [
    "## Entrada e saída de dados\n",
    "\n",
    "### Input\n",
    "Uma forma bastante usada para entrada de dados é o *input*, que leva para 'dentro' do programa uma informação dada pelo usuário.\n",
    "\n",
    "### Print\n",
    "Uma forma para saída de dados é o comando *print* que imprime na tela o que é determinado pelo programa.\n",
    "\n",
    "\n",
    "ex:"
   ]
  },
  {
   "cell_type": "code",
   "execution_count": null,
   "metadata": {},
   "outputs": [],
   "source": [
    "#coding: utf-8\n",
    "\n",
    "\n",
    "login = input(\"Informe seu Login: \") #entrada de dado: o login\n",
    "senha = input(\"Informe sua Senha: \") #entrada de dado: a senha do usuário\n",
    "\n",
    "print('O usuário informado foi {}, e a senha é {}.' .format(login, senha)) #saída de dados: o login e a senha"
   ]
  },
  {
   "cell_type": "code",
   "execution_count": 7,
   "metadata": {},
   "outputs": [
    {
     "name": "stdout",
     "output_type": "stream",
     "text": [
      "----------------------------------------------------------------------------------------------------\n",
      ":Glossário de programação\n",
      "----------------------------------------------------------------------------------------------------\n",
      "\n",
      ":::String:::\n",
      "Significado -> Sequência linear de caracteres. Itens são acessados via índice\n",
      ">>> Ex: 'Isso é uma string'\n",
      "\n",
      "\n",
      ":::Lista:::\n",
      "Significado -> Sequência linear de valores (elementos) que podem ser de qualquer e de diferentes tipos \n",
      "(listas, strings, inteiros, etc). Itens são acessados via índice\n",
      ">>>Ex: lista = [elemento1, elemento2, elemento3]\n",
      "\n",
      "\n",
      ":::Tupla:::\n",
      "Significado -> Sequência linear de valores (elementos) que podem ser de qualquer e de diferentes tipos \n",
      "Porém, diferentemente das listas, são imutáveis!\n",
      ">>>Ex: tupla = (elemento1, elemento2, elemento3)\n",
      "\n",
      "\n",
      ":::Range:::\n",
      "Significado -> Intervalo sequenciado de números inteiros. O índice começa em 0, por isso o último nº \n",
      "não entra na sequência \n",
      ">>>Ex: range(0,11) irá criar um intervalo de 0 a 10\n",
      "\n",
      "\n",
      ":::Dicionario:::\n",
      "Significado -> Coleção associativa desordenada. O valor é acessado por uma **chave** imutável e não por indice\n",
      ">>>Ex: dicionário = {chave1: valor1, chave2: valor2}\n",
      "------------------------------------------------------------------------------------------------------------------------\n"
     ]
    }
   ],
   "source": [
    "# coding: UTF-8\n",
    "print('----' * 25)\n",
    "print('Glossário de programação'.center(25, ':'))\n",
    "print('----' * 25)\n",
    "\n",
    "glossario = {\n",
    "    'string': 'Sequência linear de caracteres. Itens são acessados via índice'\n",
    "              '\\n>>> Ex: \\'Isso é uma string\\'\\n',\n",
    "    'lista': 'Sequência linear de valores (elementos) que podem ser de qualquer e de diferentes tipos ' \n",
    "             '\\n(listas, strings, inteiros, etc). Itens são acessados via índice'\n",
    "             '\\n>>>Ex: lista = [elemento1, elemento2, elemento3]\\n',\n",
    "    'tupla': 'Sequência linear de valores (elementos) que podem ser de qualquer e de diferentes tipos ' \n",
    "             '\\nPorém, diferentemente das listas, são imutáveis!'\n",
    "             '\\n>>>Ex: tupla = (elemento1, elemento2, elemento3)\\n',\n",
    "    'range': 'Intervalo sequenciado de números inteiros. O índice começa em 0, por isso o último nº \\nnão entra na '\n",
    "             'sequência \\n>>>Ex: range(0,11) irá criar um intervalo de 0 a 10\\n',\n",
    "    'dicionario': 'Coleção associativa desordenada. O valor é acessado por uma **chave** imutável '\n",
    "                  'e não por indice\\n>>>Ex: dicionário = {chave1: valor1, chave2: valor2}'\n",
    "    }\n",
    "\n",
    "for word, significado in glossario.items():\n",
    "    print('\\n' + ':::' + word.title() + ':::' + '\\nSignificado -> ' + significado)\n",
    "\n",
    "print('----' * 30)"
   ]
  },
  {
   "cell_type": "markdown",
   "metadata": {},
   "source": [
    "## Métodos vs Funções\n",
    "\n",
    "- Função:           função(objeto)\n",
    "\n",
    "- Método:           objeto.metodo()"
   ]
  },
  {
   "cell_type": "markdown",
   "metadata": {},
   "source": [
    "# Strings\n",
    "\n",
    "## Operadores com strings\n",
    "\n",
    "  - (+)\n",
    "  - (*)\n",
    "  \n",
    "  \n",
    "  ex:"
   ]
  },
  {
   "cell_type": "code",
   "execution_count": 3,
   "metadata": {},
   "outputs": [
    {
     "name": "stdout",
     "output_type": "stream",
     "text": [
      "oi, tudo bem?\n",
      "oi, oi, oi, oi, oi, \n",
      "25\n",
      "22222\n",
      "7\n",
      "10\n"
     ]
    }
   ],
   "source": [
    "string1 = 'oi, '\n",
    "string2 = 'tudo bem?'\n",
    "\n",
    "print(string1 + string2) #este operador soma o texto\n",
    "print(string1 * 5) #este operador multiplica o texto um determinado número de vezes\n",
    "\n",
    "#Cuidado quando estiver trabalhando com strings e números. Os números podem ser strings, dependendo do caso...\n",
    "#Quando utilizamos números como string, os operadores vão funcionar do mesmo jeito, pois é um texto. Mais exemplos:\n",
    "string3 = '2'\n",
    "string4 = '5'\n",
    "\n",
    "print(string3 + string4)\n",
    "print(string3 * 5)\n",
    "\n",
    "#Se tratarmos números como números e não como strings, teremos um resultado diferente.\n",
    "\n",
    "string5 = 2\n",
    "string6 = 5\n",
    "\n",
    "print(string5 + string6)\n",
    "print(string5 * 5)"
   ]
  },
  {
   "cell_type": "markdown",
   "metadata": {},
   "source": [
    "## Métodos com Strings"
   ]
  },
  {
   "cell_type": "markdown",
   "metadata": {},
   "source": [
    "- .strip() : apaga espaços em branco no texto\n",
    "    * rstrip(): apaga espaços em branco à **direita** (right) do texto\n",
    "    * lstrip(): apaga espaços em branco à **esquerda** (left) do texto\n",
    "\n",
    "- .lower() : deixa todo o texto em caixa baixa\n",
    "\n",
    "- .upper() : deixa todo o texto em caixa alta\n",
    "\n",
    "- .title() : deixa a primeira letra de cada palavra em maiúscula\n",
    "\n",
    "- .swapcase() : primeira letra da frase minúscula\n",
    "\n",
    "- .capitalize() : primeira letra da frase maiúscula\n",
    "\n",
    "- .count(argumento) : conta o número de vezes em que o argumento especificado aparece no texto\n",
    "\n",
    "- .replace(old, new) : substitui palavra ou caractere ->.replace('substitui esse', 'por esse')\n",
    "\n",
    "- .find(argumento) : encontra a primeira incidência do argumento, retorna a posição dele na string\n",
    "\n",
    "- .split(sequência) : separar uma sequência\n",
    "\n",
    "- str.join(sequencia) : juntar uma sequência utlizando um caracter, ou espaço especificado (ver exemplo mais abaixo)\n",
    "\n",
    "- .center(tamanho, 'caracter de preenchimento') : centraliza o texto, preenche com caracter (o padrão é espaço)\n",
    "\n",
    "- .rjust(tamanho, 'caracter de preenchimento') : justifica o texto à **direita** (right)\n",
    "\n",
    "- .ljust(tamanho, 'caracter de preenchimento')  : justifica o texto à **esquerda** (left)\n",
    "\n",
    "\n",
    "ex:\n"
   ]
  },
  {
   "cell_type": "code",
   "execution_count": 34,
   "metadata": {},
   "outputs": [
    {
     "name": "stdout",
     "output_type": "stream",
     "text": [
      "Texto antes:    Olá mundo!   \n",
      "Texto sem espaços em branco: Olá mundo!\n",
      "Texto sem espaços em branco à direita:    Olá mundo!\n",
      "Texto sem espaços em branco à esquerda: Olá mundo!   \n",
      "Texto convertido para letras minúsculas:    olá mundo!   \n",
      "Texto convertido para letras maiúsculas:    OLÁ MUNDO!   \n",
      "Texto convertido para primeira letra de cada palavra em maiúscula:    Olá Mundo!   \n"
     ]
    }
   ],
   "source": [
    "#Exemplos do uso de .strip()\n",
    "\n",
    "texto = '   Olá mundo!   '\n",
    "\n",
    "print('Texto antes: ' + texto)\n",
    "print('Texto sem espaços em branco: ' + texto.strip())\n",
    "print('Texto sem espaços em branco à direita: ' + texto.rstrip())\n",
    "print('Texto sem espaços em branco à esquerda: ' + texto.lstrip())\n",
    "\n",
    "#Exemplo do uso de .lower()\n",
    "print('Texto convertido para letras minúsculas: ' + texto.lower())\n",
    "\n",
    "#Exemplo do uso de .upper()\n",
    "print('Texto convertido para letras maiúsculas: ' + texto.upper())\n",
    "\n",
    "#Exemplo do uso de .title()\n",
    "print('Texto convertido para primeira letra de cada palavra em maiúscula: ' + texto.title())\n"
   ]
  },
  {
   "cell_type": "code",
   "execution_count": 28,
   "metadata": {},
   "outputs": [
    {
     "name": "stdout",
     "output_type": "stream",
     "text": [
      "3\n",
      "1\n"
     ]
    }
   ],
   "source": [
    "#Exemplos do uso de .count()\n",
    "\n",
    "texto_2 = 'A verdadeira coragem é ser honesto consigo mesmo. (Mr Robot)'\n",
    "\n",
    "#conta quantas vezes a letra 'a' aparece na frase (obs: diferencia-se maiúsculas de minúsculas)\n",
    "#portanto o programa não irá contar a incidência de maiúsculas, neste caso.\n",
    "print(texto_2.count('a'))\n",
    "\n",
    "#Agora verificando 'A' maiúscula\n",
    "print(texto_2.count('A'))"
   ]
  },
  {
   "cell_type": "code",
   "execution_count": 44,
   "metadata": {},
   "outputs": [
    {
     "name": "stdout",
     "output_type": "stream",
     "text": [
      "Antes a frase era assim: Maria gosta de televisão.\n",
      "Agora a frase ficou assim: Maria gosta de videogame.\n",
      "\n",
      "Posição da palavra na frase: 6\n",
      "\n",
      "Posição do caracter na frase: 3\n"
     ]
    }
   ],
   "source": [
    "#Exemplo do uso de .replace(old, new)\n",
    "\n",
    "texto_3 = 'Maria gosta de televisão.'\n",
    "\n",
    "print('Antes a frase era assim: ' + texto_3)\n",
    "print('Agora a frase ficou assim: ' + texto_3.replace('televisão', 'videogame'))\n",
    "\n",
    "\n",
    "#Exemplo do uso de .find()\n",
    "#irá informar em que posição da string começa a palavra 'gosta'\n",
    "print('\\nPosição da palavra na frase: {}' .format(texto_3.find('gosta')))\n",
    "\n",
    "\n",
    "#ao invés de uma palavra, pode encontrar uma letra (a 1ª vez que ela aparecer na string)\n",
    "print('\\nPosição do caracter na frase: {}' .format(texto_3.find('i'))) "
   ]
  },
  {
   "cell_type": "code",
   "execution_count": 58,
   "metadata": {},
   "outputs": [
    {
     "name": "stdout",
     "output_type": "stream",
     "text": [
      "['Este', 'é', 'o', 'mundo', 'em', 'que', 'vivemos.', 'Pessoas', 'se', 'dando', 'bem', 'em', 'cima', 'dos', 'erros', 'alheios', 'para', 'manipularem', 'e', 'usarem', 'uns', 'aos', 'outros.', '(Mr', 'Robot)']\n"
     ]
    }
   ],
   "source": [
    "#Exemplo de uso de .split()\n",
    "\n",
    "#Com uma frase\n",
    "texto_4 = '''Este é o mundo em que vivemos. Pessoas se dando bem em cima dos erros alheios \n",
    "para manipularem e usarem uns aos outros. (Mr Robot)'''\n",
    "\n",
    "print(texto_4.split())\n",
    "\n"
   ]
  },
  {
   "cell_type": "code",
   "execution_count": 62,
   "metadata": {},
   "outputs": [
    {
     "name": "stdout",
     "output_type": "stream",
     "text": [
      "a, b, c\n",
      "a - b - c\n",
      "Olá mundo !\n"
     ]
    }
   ],
   "source": [
    "#Exemplo de .join(sequencia)\n",
    "\n",
    "s = ', ' #vai unir os elementos da sequencia entre ', '\n",
    "sequencia = ('a', 'b', 'c')\n",
    "\n",
    "print(s.join(sequencia))\n",
    "\n",
    "#outro exemplo\n",
    "x = ' - ' #vai unir os elementos da sequencia entre ', '\n",
    "sequencia_2 = ('a', 'b', 'c')\n",
    "print(x.join(sequencia_2))\n",
    "\n",
    "#outro exemplo\n",
    "y = ' ' #vai unir os elementos da sequencia entre ' '\n",
    "sequencia_3= ('Olá', 'mundo', '!')\n",
    "print(y.join(sequencia_3))"
   ]
  },
  {
   "cell_type": "code",
   "execution_count": 2,
   "metadata": {},
   "outputs": [
    {
     "name": "stdout",
     "output_type": "stream",
     "text": [
      "Justificado à direita:    *****************olá\n",
      "Justificado à esquerda:    olá*****************\n",
      "Justificado centralizado:    ********olá*********\n",
      "-------Somador de número inteiro--------\n"
     ]
    }
   ],
   "source": [
    "#Exemplo de aplicação .rjust(tamanho, 'caracter de preenchimento')\n",
    "palavra = 'olá'\n",
    "print('Justificado à direita:    ' + palavra.rjust(20, '*'))\n",
    "\n",
    "#Exemplo de aplicação .ljust(tamanho, 'caracter de preenchimento')\n",
    "palavra = 'olá'\n",
    "print('Justificado à esquerda:    ' + palavra.ljust(20, '*'))\n",
    "\n",
    "#Exemplo de aplicação .center(tamanho, 'caracter de preenchimento')\n",
    "palavra = 'olá'\n",
    "print('Justificado centralizado:    ' + palavra.center(20, '*'))\n",
    "\n",
    "#Outro exemplo:\n",
    "print('Somador de número inteiro'.center(40, '-'))"
   ]
  },
  {
   "cell_type": "markdown",
   "metadata": {},
   "source": [
    "## Funções: strings\n",
    "\n",
    "- len() : mostra o tamanho do texto (nº de caracteres)"
   ]
  },
  {
   "cell_type": "code",
   "execution_count": 67,
   "metadata": {},
   "outputs": [
    {
     "name": "stdout",
     "output_type": "stream",
     "text": [
      "O texto tem 237 caracteres.\n"
     ]
    }
   ],
   "source": [
    "texto_4 ='''\n",
    "Mudamos o mundo todos os dias. \n",
    "Mas para mudar o mundo de um jeito significativo, \n",
    "leva muito mais tempo do que as pessoas têm. \n",
    "Nunca acontece ao mesmo tempo. \n",
    "É devagar. É metódico. É exaustivo. \n",
    "Nem todos temos o estômago para isso.\n",
    "'''\n",
    "\n",
    "print('O texto tem {} caracteres.' .format(len(texto2)))\n"
   ]
  },
  {
   "cell_type": "markdown",
   "metadata": {},
   "source": [
    "# Fatiar uma string, Listas\n",
    "\n",
    "Começa a contar de 0 \n",
    "e soma +1 ao último nº, pois o python não exibe a última posição.\n",
    "\n",
    "Utiliza-se -1, -2, -3, n para contar inversamente.\n",
    "\n",
    "**[de posição : até posição]**\n",
    "\n",
    "\n",
    "Se deixar em branco a posição 'de', o Python considera que começa em 0 por padrão.\n",
    "\n",
    "**[:até posição]**\n",
    "\n",
    "\n",
    "Se deixar em branco a posição 'até ', o Python considera que termina na última posição por padrão.\n",
    "\n",
    "**[de posição:]**\n"
   ]
  },
  {
   "cell_type": "code",
   "execution_count": 24,
   "metadata": {},
   "outputs": [
    {
     "name": "stdout",
     "output_type": "stream",
     "text": [
      "Da posição 4 até posição 8: lele\n",
      "Da posição inicial até posição 4: para\n",
      "Da posição 8 até posição final: pipedo\n",
      "\n",
      " [0, 1, 2, 3, 4, 5]\n",
      "Da posição 2 até posição 4: [2, 3]\n",
      "Da posição inicial até posição 4: [0, 1, 2, 3]\n",
      "Da posição -1: [5]\n"
     ]
    }
   ],
   "source": [
    "string = 'paralelepipedo'\n",
    "\n",
    "print('Da posição 4 até posição 8: ' + string[4:8])\n",
    "print('Da posição inicial até posição 4: ' + string[:4])\n",
    "print('Da posição 8 até posição final: ' + string[8:])\n",
    "\n",
    "#com listas\n",
    "lista = [0, 1, 2, 3, 4, 5]\n",
    "print('\\n', lista)\n",
    "\n",
    "print('Da posição 2 até posição 4: {}' .format(lista[2:4]))\n",
    "print('Da posição inicial até posição 4: {}' .format(lista[:4]))\n",
    "print('Da posição -1: {}' .format(lista[-1:]))\n"
   ]
  },
  {
   "cell_type": "markdown",
   "metadata": {},
   "source": [
    "# Função sum() max() min() para números\n",
    "\n",
    "- sum(): retorna a soma\n",
    "\n",
    "- max(): retorna o maior nº\n",
    "\n",
    "- min(): retorna o menor nº\n"
   ]
  },
  {
   "cell_type": "code",
   "execution_count": 10,
   "metadata": {},
   "outputs": [
    {
     "name": "stdout",
     "output_type": "stream",
     "text": [
      "A soma da sequência é 15\n",
      "O maior nº da sequência é 8\n",
      "O menor número da sequência é 2\n"
     ]
    }
   ],
   "source": [
    "#exemplo de sum()\n",
    "print('A soma da sequência é {}' .format(sum([1, 2, 3, 4, 5])))\n",
    "\n",
    "#exemplo de max()\n",
    "print('O maior nº da sequência é {}' .format(max(5, 6, 2, 8)))\n",
    "\n",
    "#exemplo de min()\n",
    "print('O menor número da sequência é {}' .format(min(5, 6, 2, 8)))"
   ]
  },
  {
   "cell_type": "markdown",
   "metadata": {},
   "source": [
    "# Definindo funções\n",
    "\n",
    "\n",
    "def nome_da_função(parâmetro):      -> Tanto pode conter um parâmetro quanto não. Depende do caso </br>\n",
    "    '''Comentário sobre o que a função faz (Docstring)'''\n",
    "    </br>  Ações da função indentadas\n",
    "       \n",
    "    \n",
    "\n",
    "*Sempre usar 2 linhas em branco antes e depois de cada função*\n",
    "EX:"
   ]
  },
  {
   "cell_type": "code",
   "execution_count": 6,
   "metadata": {},
   "outputs": [
    {
     "name": "stdout",
     "output_type": "stream",
     "text": [
      "\n",
      "Olá, Lays. É um prazer te conhecer!\n"
     ]
    }
   ],
   "source": [
    "# aqui a variável 'nome' é o parâmetro da função\n",
    "def ola(nome): \n",
    "    '''Saúda uma pessoa pelo nome'''\n",
    "    print('\\nOlá, ' + nome + '. É um prazer te conhecer!') \n",
    "\n",
    "# Aqui recebemos do usuário um input que informará a variável 'nome'\n",
    "nome = str(input('\\nQual é o seu nome? ').strip().title()) \n",
    "\n",
    "# aqui chamamos a função e informamos qual é o argumento da variável 'nome'\n",
    "ola(nome) \n",
    "\n",
    "# agora o programa age sozinho e executa a função"
   ]
  },
  {
   "cell_type": "code",
   "execution_count": 1,
   "metadata": {},
   "outputs": [
    {
     "name": "stdout",
     "output_type": "stream",
     "text": [
      "\n",
      "Olá à todos! É um grande prazer recebê-los aqui!!!\n",
      "\n",
      "---------------------------------------------\n",
      "\n",
      "Outro exemplo:\n",
      "4\n"
     ]
    }
   ],
   "source": [
    "# Um exemplo que não precisa passar um parâmetro\n",
    "def ola():\n",
    "    '''exibe uma mensagem padrão'''\n",
    "    print('\\nOlá à todos! É um grande prazer recebê-los aqui!!!\\n')\n",
    "    \n",
    "# Chamamos a função\n",
    "ola()\n",
    "\n",
    "print('---' * 15)\n",
    "print('\\nOutro exemplo:')\n",
    "\n",
    "# Outro exemplo\n",
    "import random\n",
    "def sorteia():\n",
    "    '''Exibe um nº sorteado de uma lista de 0 a 10'''\n",
    "    lista = random.randrange(0, 10)\n",
    "    print(lista)\n",
    "\n",
    "# Chamamos a função\n",
    "sorteia()\n"
   ]
  },
  {
   "cell_type": "markdown",
   "metadata": {},
   "source": [
    "# Anexos\n"
   ]
  },
  {
   "cell_type": "markdown",
   "metadata": {},
   "source": [
    "## Github\n",
    "\n",
    "### Para aprender GitHub\n",
    "\n",
    "- __[Guia INTERATIVO do próprio GitHub](https://learngitbranching.js.org/)__ Interativo\n",
    "\n",
    "- __[Cheat Sheets do próprio GitHub](https://services.github.com/on-demand/resources/cheatsheets/)__ PDF\n",
    "\n",
    "- __[Cheat Sheets do próprio GitHub](https://guides.github.com/introduction/git-handbook/)__ web\n",
    "\n",
    "- __[Página Completa Github (recursos)](https://try.github.io/)__\n",
    "\n",
    "- __[Roger Dudler](http://rogerdudler.github.io/git-guide/index.pt_BR.html)__\n",
    "\n",
    "- __[Youtube: Básico sobre Git e Github](https://www.youtube.com/watch?v=UMhskLXJuq4&t=860s)__"
   ]
  },
  {
   "cell_type": "markdown",
   "metadata": {},
   "source": [
    "## Youtube\n",
    "\n",
    "Alguns canais legais sobre Python\n",
    "\n",
    "- __[Clever Programmer ](https://www.youtube.com/channel/UCqrILQNl5Ed9Dz6CGMyvMTQ)__\n",
    "\n",
    "- __[Coding is for girls](https://www.youtube.com/channel/UC0hNd2uW8jTR5K3KBzRuG2A)__\n",
    "\n",
    "- __[Al Sweigart](https://www.youtube.com/channel/UCRjTEkDLPREZNlREZMlotMQ)__\n",
    "\n",
    "- __[Curso em Vídeo](https://www.youtube.com/channel/UCrWvhVmt0Qac3HgsjQK62FQ)__\n",
    "\n"
   ]
  },
  {
   "cell_type": "code",
   "execution_count": null,
   "metadata": {},
   "outputs": [],
   "source": []
  }
 ],
 "metadata": {
  "kernelspec": {
   "display_name": "Python 3",
   "language": "python",
   "name": "python3"
  },
  "language_info": {
   "codemirror_mode": {
    "name": "ipython",
    "version": 3
   },
   "file_extension": ".py",
   "mimetype": "text/x-python",
   "name": "python",
   "nbconvert_exporter": "python",
   "pygments_lexer": "ipython3",
   "version": "3.6.5"
  }
 },
 "nbformat": 4,
 "nbformat_minor": 2
}
