{
 "cells": [
  {
   "cell_type": "markdown",
   "metadata": {},
   "source": [
    "**8.1 - Mensagem: Escreva uma função chamada display_message() que mostre\n",
    "uma frase informando a todos o que você está aprendendo neste capítulo. Chame\n",
    "a função e certifique-se de que a mensagem seja exibida corretamente.**"
   ]
  },
  {
   "cell_type": "code",
   "execution_count": 2,
   "metadata": {},
   "outputs": [
    {
     "name": "stdout",
     "output_type": "stream",
     "text": [
      "------------------------------------------------------------\n",
      "\u001b[2mO que estou aprendendo neste capítulo\u001b[m\n",
      "------------------------------------------------------------\n",
      "\n",
      "Olá, Lays. Tudo bem?\n",
      "Neste capítulo estou aprendendo a definir funções em Python.\n",
      "------------------------------------------------------------\n"
     ]
    }
   ],
   "source": [
    "# coding: utf-8\n",
    "\n",
    "print('---' * 20)\n",
    "print('\\033[2mO que estou aprendendo neste capítulo\\033[m')\n",
    "print('---' * 20)\n",
    "\n",
    "\n",
    "def display_message(name):\n",
    "    '''Mostra uma mensagem sobre o que estou aprendendo neste capítulo'''\n",
    "    print('\\nOlá, ' + name + '. Tudo bem?')\n",
    "    print('Neste capítulo estou aprendendo a definir funções em Python.')\n",
    "\n",
    "\n",
    "name = str(input('\\nQual é o seu nome? ').title().strip())\n",
    "display_message(name)\n",
    "print('---' * 20)"
   ]
  },
  {
   "cell_type": "markdown",
   "metadata": {},
   "source": [
    "<>\n",
    "\n",
    "**8.2 – Livro favorito: Escreva uma função chamada favorite_book() que aceite\n",
    "um parâmetro title. A função deve exibir uma mensagem como Um dos meus\n",
    "livros favoritos é Alice no país das maravilhas. Chame a função e não\n",
    "se esqueça de incluir o título do livro como argumento na chamada da função.**"
   ]
  },
  {
   "cell_type": "code",
   "execution_count": 41,
   "metadata": {},
   "outputs": [
    {
     "name": "stdout",
     "output_type": "stream",
     "text": [
      "\n",
      "Um dos meus livros favoritos é 'A Vida Em Tons De Cinza'.\n"
     ]
    }
   ],
   "source": [
    "def favorite_book(title):\n",
    "    '''Exibe o livro favorito de uma pessoa'''\n",
    "    print('\\nUm dos meus livros favoritos é ' + '\\'' + title + '\\'.')\n",
    "\n",
    "    \n",
    "title = str(input('Informe um de seus livros favoritos: ').title())\n",
    "\n",
    "favorite_book(title)\n"
   ]
  },
  {
   "cell_type": "markdown",
   "metadata": {},
   "source": [
    "<>\n",
    "\n",
    "**8.3 – Camiseta: Escreva uma função chamada make_shirt() que aceite um\n",
    "tamanho e o texto de uma mensagem que deverá ser estampada na camiseta. A\n",
    "função deve exibir uma frase que mostre o tamanho da camiseta e a mensagem\n",
    "estampada.\n",
    "Chame a função uma vez usando argumentos posicionais para criar uma\n",
    "camiseta. Chame a função uma segunda vez usando argumentos nomeados.**"
   ]
  },
  {
   "cell_type": "code",
   "execution_count": 42,
   "metadata": {},
   "outputs": [
    {
     "name": "stdout",
     "output_type": "stream",
     "text": [
      "Encomenda realizada com sucesso. Confira os dados: \n",
      "\n",
      "\n",
      "O tamanho da camiseta é: P\n",
      "A mensagem é: Olá Mundo\n"
     ]
    }
   ],
   "source": [
    "def make_shirt(tamanho, mensagem):\n",
    "    '''Exibe o tamanho da camiseta encomendada e a mensagem que deverá ser impressa'''\n",
    "    print('Encomenda realizada com sucesso. Confira os dados: ')\n",
    "    print('\\n\\nO tamanho da camiseta é: ' + tamanho)\n",
    "    print('A mensagem é: ' + mensagem)\n",
    "    \n",
    "\n",
    "tamanho = str(input('Informe o tamanho da camiseta (P/M/G): ').upper().strip())\n",
    "mensagem = str(input('Informe a mensagem que será impressa na camiseta: ').title())\n",
    "\n",
    "make_shirt(tamanho, mensagem)"
   ]
  },
  {
   "cell_type": "markdown",
   "metadata": {},
   "source": [
    "<>\n",
    "\n",
    "**8.4 – Camisetas grandes: Modifique a função make_shirt() de modo que as\n",
    "camisetas sejam grandes por default, com uma mensagem Eu amo Python. Crie\n",
    "uma camiseta grande e outra média com a mensagem default, e uma camiseta de\n",
    "qualquer tamanho com uma mensagem diferente.**"
   ]
  },
  {
   "cell_type": "code",
   "execution_count": 43,
   "metadata": {},
   "outputs": [
    {
     "name": "stdout",
     "output_type": "stream",
     "text": [
      "Tecle <ENTER> para padrão. ou informe os valores de sua preferência.\n",
      "::::::::::::::::::::::::::::::::::::::::::::::::::::::::::::\n",
      "Encomenda realizada com sucesso. Confira os dados: \n",
      "O tamanho da camiseta é: G\n",
      "A mensagem é: Eu amo Python!\n",
      "::::::::::::::::::::::::::::::::::::::::::::::::::::::::::::\n"
     ]
    }
   ],
   "source": [
    "def make_shirt(tamanho='G', mensagem='Eu amo Python!'):\n",
    "    '''Exibe o tamanho da camiseta encomendada e a mensagem que deverá ser impressa'''\n",
    "    '''dados defaul tamanho G e mensagem Eu amo Python'''\n",
    "    print('Encomenda realizada com sucesso. Confira os dados: ')\n",
    "    print('O tamanho da camiseta é: ' + tamanho)\n",
    "    print('A mensagem é: ' + mensagem)\n",
    "    \n",
    "print('Tecle <ENTER> para padrão. ou informe os valores de sua preferência.')    \n",
    "tamanho = str(input('Informe o tamanho da camiseta (P/M/G): ').upper().strip())\n",
    "mensagem = str(input('Informe a mensagem que será impressa na camiseta: ').title())\n",
    "\n",
    "print(':::' * 20)\n",
    "\n",
    "if tamanho == '' and mensagem == '':\n",
    "    make_shirt()\n",
    "elif tamanho != '' and mensagem == '':\n",
    "    make_shirt(tamanho, mensagem='Eu amo Python!')\n",
    "elif tamanho != '' and mensagem != '':\n",
    "    make_shirt(tamanho, mensagem)\n",
    "elif tamanho == '' and mensagem != '':\n",
    "    make_shirt('G', mensagem)\n",
    "\n",
    "print(':::' * 20)\n",
    "\n",
    "    \n"
   ]
  },
  {
   "cell_type": "markdown",
   "metadata": {},
   "source": [
    "<>\n",
    "\n",
    "**8.5 – Cidades: Escreva uma função chamada describe_city() que aceite o\n",
    "nome de uma cidade e seu país. A função deve exibir uma frase simples, como\n",
    "Reykjavik está localizada na Islândia. Forneça um valor default ao\n",
    "parâmetro que representa o país. Chame sua função para três cidades diferentes\n",
    "em que pelo menos uma delas não esteja no país default.**"
   ]
  },
  {
   "cell_type": "code",
   "execution_count": 51,
   "metadata": {},
   "outputs": [
    {
     "name": "stdout",
     "output_type": "stream",
     "text": [
      "::::::::::::::::::::::::::::::::::::::::::::::::::::::::::::\n",
      "Info: Ferraz De Vasconcelos/Brasil\n",
      "::::::::::::::::::::::::::::::::::::::::::::::::::::::::::::\n"
     ]
    }
   ],
   "source": [
    "def describe_city(city='São Paulo', country='Brasil'):\n",
    "    '''Exibe uma frase simples sobre a cidade'''\n",
    "    print('Info: ' + city + '/' + country)\n",
    "    \n",
    "\n",
    "city = str(input('Informe o nome de uma cidade: ').title())\n",
    "country = str(input('Informe o país onde está localizada: ').title())\n",
    "\n",
    "print(':::' * 20)\n",
    "\n",
    "if city == '' and country == '':\n",
    "    describe_city()\n",
    "elif city == '' and country != '':\n",
    "    describe_city('São Paulo', country)\n",
    "elif city != '' and country == '':\n",
    "    describe_city(city, 'Brasil')\n",
    "elif city != '' and country != '':\n",
    "    describe_city(city, country)\n",
    "    \n",
    "print(':::' * 20)"
   ]
  },
  {
   "cell_type": "markdown",
   "metadata": {},
   "source": [
    "<>\n",
    "\n",
    "**8.6 – Nomes de cidade: Escreva uma função chamada city_country() que\n",
    "aceite o nome de uma cidade e seu país. A função deve devolver uma string\n",
    "formatada assim:\n",
    "\"Santiago, Chile\"\n",
    "Chame sua função com pelo menos três pares cidade-país e apresente o valor\n",
    "devolvido.**"
   ]
  },
  {
   "cell_type": "code",
   "execution_count": null,
   "metadata": {},
   "outputs": [],
   "source": [
    "def city_country(city, country):\n",
    "    '''Exibe uma frase simples sobre a cidade'''\n",
    "    print(city + ', ' + country)\n",
    "    \n",
    "    \n",
    "print(':::' * 20)\n",
    "\n",
    "while True:\n",
    "    print('digite (q) a qualquer momento para sair.')\n",
    "    city = str(input('Informe o nome de uma cidade: ').title())\n",
    "    country = str(input('Informe o país onde está localizada: ').title())\n",
    "    \n",
    "    if city == 'Q':\n",
    "        break\n",
    "    if country == 'Q':\n",
    "        break\n",
    "    else:\n",
    "        city = str(input('Informe o nome de uma cidade: ').title())\n",
    "        country = str(input('Informe o país onde está localizada: ').title())\n",
    "        city_country(city, country)\n"
   ]
  },
  {
   "cell_type": "markdown",
   "metadata": {},
   "source": [
    "<>\n",
    "\n",
    "**8.7 – Álbum: Escreva uma função chamada make_album() que construa um\n",
    "dicionário descrevendo um álbum musical. A função deve aceitar o nome de um\n",
    "artista e o título de um álbum e deve devolver um dicionário contendo essas duas\n",
    "informações. Use a função para criar três dicionários que representem álbuns\n",
    "diferentes. Apresente cada valor devolvido para mostrar que os dicionários estão\n",
    "armazenando as informações do álbum corretamente.\n",
    "Acrescente um parâmetro opcional em make_album() que permita armazenar o\n",
    "número de faixas em um álbum. Se a linha que fizer a chamada incluir um valor\n",
    "para o número de faixas, acrescente esse valor ao dicionário do álbum. Faça pelo\n",
    "menos uma nova chamada da função incluindo o número de faixas em um álbum.**"
   ]
  },
  {
   "cell_type": "code",
   "execution_count": 2,
   "metadata": {},
   "outputs": [
    {
     "name": "stdout",
     "output_type": "stream",
     "text": [
      "{'artista': 'Nirvana', 'album': 'Nevermind'}\n",
      "{'artista': 'Audioslave', 'album': 'Out Of Exile'}\n",
      "{'artista': ' The Killers', 'album': 'Battle Born'}\n"
     ]
    }
   ],
   "source": [
    "def make_album(artista, album):\n",
    "    '''Exibe Artista, album e ano de lançamento'''\n",
    "    album_dict = {\n",
    "        'artista': artista.title(),\n",
    "        'album': album.title()\n",
    "        }\n",
    "    return print(album_dict)\n",
    "\n",
    "album = make_album('nirvana', 'nevermind')\n",
    "\n",
    "album = make_album('audioSlave', 'Out of exile')\n",
    "\n",
    "album = make_album(' The Killers', 'Battle Born')\n",
    "         "
   ]
  },
  {
   "cell_type": "code",
   "execution_count": null,
   "metadata": {},
   "outputs": [],
   "source": []
  }
 ],
 "metadata": {
  "kernelspec": {
   "display_name": "Python 3",
   "language": "python",
   "name": "python3"
  },
  "language_info": {
   "codemirror_mode": {
    "name": "ipython",
    "version": 3
   },
   "file_extension": ".py",
   "mimetype": "text/x-python",
   "name": "python",
   "nbconvert_exporter": "python",
   "pygments_lexer": "ipython3",
   "version": "3.6.5"
  }
 },
 "nbformat": 4,
 "nbformat_minor": 2
}
