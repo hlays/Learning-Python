{
 "cells": [
  {
   "cell_type": "code",
   "execution_count": null,
   "metadata": {},
   "outputs": [],
   "source": [
    "print('Exercício Python 020: O mesmo professor do desafio 019 quer sortear \\na ordem de apresentação de trabalhos dos alunos. Faça um programa que \\nleia o nome dos quatro alunos e mostre a ordem sorteada.')\n",
    "import random\n",
    "a1 = str(input('Digite o nome do aluno: '))\n",
    "a2 = str(input('Digite o nome do aluno: '))\n",
    "a3 = str(input('Digite o nome do aluno: '))\n",
    "a4 = str(input('Digite o nome do aluno: '))\n",
    "lista = [a1, a2, a3, a4]\n",
    "escolhido = random.choice(lista)\n",
    "print('O escolhido é {}'.format(escolhido))\n"
   ]
  }
 ],
 "metadata": {
  "kernelspec": {
   "display_name": "Python 3",
   "language": "python",
   "name": "python3"
  },
  "language_info": {
   "codemirror_mode": {
    "name": "ipython",
    "version": 3
   },
   "file_extension": ".py",
   "mimetype": "text/x-python",
   "name": "python",
   "nbconvert_exporter": "python",
   "pygments_lexer": "ipython3",
   "version": "3.6.5"
  }
 },
 "nbformat": 4,
 "nbformat_minor": 2
}
