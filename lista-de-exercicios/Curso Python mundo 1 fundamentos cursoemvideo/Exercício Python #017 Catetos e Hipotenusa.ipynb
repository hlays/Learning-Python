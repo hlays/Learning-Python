{
 "cells": [
  {
   "cell_type": "code",
   "execution_count": 9,
   "metadata": {},
   "outputs": [
    {
     "name": "stdout",
     "output_type": "stream",
     "text": [
      "Digite o Cateto Oposto: 6\n",
      "Digite o Cateto Adjacente: 3\n",
      "\n",
      "Para um triângulo de CO = 6.00 e CA = 3.00, \n",
      "O valor de hipotenusa é H = 6.71\n"
     ]
    }
   ],
   "source": [
    "#Exercício Python 017: Faça um programa que leia o comprimento do cateto oposto \n",
    "#e do cateto adjacente de um triângulo retângulo. Calcule e mostre o comprimento da hipotenusa.\n",
    "\n",
    "co = float(input('Digite o Cateto Oposto: '))\n",
    "ca = float(input('Digite o Cateto Adjacente: '))\n",
    "hi = (co ** 2 + ca ** 2) ** (1/2)\n",
    "print('\\nPara um triângulo de CO = {:.2f} e CA = {:.2f}, \\nO valor de hipotenusa é H = {:.2f}'.format(co, ca, hi))"
   ]
  },
  {
   "cell_type": "code",
   "execution_count": 10,
   "metadata": {},
   "outputs": [
    {
     "name": "stdout",
     "output_type": "stream",
     "text": [
      "Digite o Cateto Oposto: 6\n",
      "Digite o Cateto Adjacente: 3\n",
      "\n",
      "Para um triângulo de CO = 6.00 e CA = 3.00, \n",
      "O valor de hipotenusa é H = 6.71\n"
     ]
    }
   ],
   "source": [
    "#outro método com import\n",
    "from math import hypot\n",
    "co = float(input('Digite o Cateto Oposto: '))\n",
    "ca = float(input('Digite o Cateto Adjacente: '))\n",
    "hi = hypot(co, ca)\n",
    "print('\\nPara um triângulo de CO = {:.2f} e CA = {:.2f}, \\nO valor de hipotenusa é H = {:.2f}'.format(co, ca, hi))"
   ]
  }
 ],
 "metadata": {
  "kernelspec": {
   "display_name": "Python 3",
   "language": "python",
   "name": "python3"
  },
  "language_info": {
   "codemirror_mode": {
    "name": "ipython",
    "version": 3
   },
   "file_extension": ".py",
   "mimetype": "text/x-python",
   "name": "python",
   "nbconvert_exporter": "python",
   "pygments_lexer": "ipython3",
   "version": "3.6.5"
  }
 },
 "nbformat": 4,
 "nbformat_minor": 2
}
