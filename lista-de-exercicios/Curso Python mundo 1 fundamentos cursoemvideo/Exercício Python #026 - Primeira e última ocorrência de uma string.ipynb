{
 "cells": [
  {
   "cell_type": "code",
   "execution_count": 11,
   "metadata": {},
   "outputs": [
    {
     "name": "stdout",
     "output_type": "stream",
     "text": [
      "Exercício Python 026: Faça um programa que leia uma frase pelo teclado e \n",
      "\n",
      "-mostre quantas vezes aparece a letra \"A\", \n",
      "\n",
      "-em que posição ela aparece a primeira vez e \n",
      "\n",
      "-em que posição ela aparece a última vez.\n",
      "Digite uma frase: ola amigo\n",
      "Na frase digitada, a letra A aparece: 2 vezes.\n",
      "A primeira vez em que a letra A apareceu na frase, foi na posição 3\n",
      "A última vez em que a letra A apareceu na frase, foi na posição 5\n"
     ]
    }
   ],
   "source": [
    "print('''Exercício Python 026: Faça um programa que leia uma frase pelo teclado e \n",
    "\\n-mostre quantas vezes aparece a letra \"A\", \n",
    "\\n-em que posição ela aparece a primeira vez e \n",
    "\\n-em que posição ela aparece a última vez.''')\n",
    "\n",
    "frase = str(input('Digite uma frase: ').upper())\n",
    "print('Na frase digitada, a letra A aparece: {} vezes.'.format(frase.count('A')))\n",
    "print('A primeira vez em que a letra A apareceu na frase, foi na posição {}'.format(frase.find('A')+1))\n",
    "print('A última vez em que a letra A apareceu na frase, foi na posição {}'.format(frase.rfind('A')+1))"
   ]
  }
 ],
 "metadata": {
  "kernelspec": {
   "display_name": "Python 3",
   "language": "python",
   "name": "python3"
  },
  "language_info": {
   "codemirror_mode": {
    "name": "ipython",
    "version": 3
   },
   "file_extension": ".py",
   "mimetype": "text/x-python",
   "name": "python",
   "nbconvert_exporter": "python",
   "pygments_lexer": "ipython3",
   "version": "3.6.5"
  }
 },
 "nbformat": 4,
 "nbformat_minor": 2
}
