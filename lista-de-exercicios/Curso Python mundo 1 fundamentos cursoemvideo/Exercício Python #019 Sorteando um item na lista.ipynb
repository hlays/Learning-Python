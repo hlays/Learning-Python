{
 "cells": [
  {
   "cell_type": "code",
   "execution_count": 3,
   "metadata": {},
   "outputs": [
    {
     "name": "stdout",
     "output_type": "stream",
     "text": [
      "Exercício Python 019: Um professor quer sortear um dos seus quatro alunos para apagar o quadro.\n",
      "Faça um programa que ajude ele, lendo o nome dos alunos e escrevendo na tela o nome do escolhido.\n",
      "Digite o nome do aluno: june\n",
      "Digite o nome do aluno: cah\n",
      "Digite o nome do aluno: vale\n",
      "Digite o nome do aluno: rui\n",
      "O aluno escolhido é: vale\n"
     ]
    }
   ],
   "source": [
    "print('Exercício Python 019: Um professor quer sortear um dos seus quatro alunos para apagar o quadro.\\nFaça um programa que ajude ele, lendo o nome dos alunos e escrevendo na tela o nome do escolhido.')\n",
    "import random\n",
    "a1 = str(input('Digite o nome do aluno: '))\n",
    "a2 = str(input('Digite o nome do aluno: '))\n",
    "a3 = str(input('Digite o nome do aluno: '))\n",
    "a4 = str(input('Digite o nome do aluno: '))\n",
    "lista = [a1, a2, a3, a4]\n",
    "escolhido = random.choice(lista)\n",
    "print('O aluno escolhido é: {}'.format(escolhido))"
   ]
  },
  {
   "cell_type": "code",
   "execution_count": null,
   "metadata": {},
   "outputs": [],
   "source": []
  }
 ],
 "metadata": {
  "kernelspec": {
   "display_name": "Python 3",
   "language": "python",
   "name": "python3"
  },
  "language_info": {
   "codemirror_mode": {
    "name": "ipython",
    "version": 3
   },
   "file_extension": ".py",
   "mimetype": "text/x-python",
   "name": "python",
   "nbconvert_exporter": "python",
   "pygments_lexer": "ipython3",
   "version": "3.6.5"
  }
 },
 "nbformat": 4,
 "nbformat_minor": 2
}
