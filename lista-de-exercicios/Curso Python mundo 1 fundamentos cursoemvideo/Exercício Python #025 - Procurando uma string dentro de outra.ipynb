{
 "cells": [
  {
   "cell_type": "code",
   "execution_count": null,
   "metadata": {},
   "outputs": [
    {
     "name": "stdout",
     "output_type": "stream",
     "text": [
      "Exercício Python 025: Crie um programa que leia o nome de uma pessoa \n",
      "e diga se ela tem \"SILVA\" no nome.\n"
     ]
    }
   ],
   "source": [
    "print('Exercício Python 025: Crie um programa que leia o nome de uma pessoa \\ne diga se ela tem \"SILVA\" no nome.')\n",
    "nome = str(input('Digite o nome completo: ').upper())\n",
    "print('Há SILVA no nome digitado? : {}'.format('SILVA ' in nome))\n"
   ]
  }
 ],
 "metadata": {
  "kernelspec": {
   "display_name": "Python 3",
   "language": "python",
   "name": "python3"
  },
  "language_info": {
   "codemirror_mode": {
    "name": "ipython",
    "version": 3
   },
   "file_extension": ".py",
   "mimetype": "text/x-python",
   "name": "python",
   "nbconvert_exporter": "python",
   "pygments_lexer": "ipython3",
   "version": "3.6.5"
  }
 },
 "nbformat": 4,
 "nbformat_minor": 2
}
