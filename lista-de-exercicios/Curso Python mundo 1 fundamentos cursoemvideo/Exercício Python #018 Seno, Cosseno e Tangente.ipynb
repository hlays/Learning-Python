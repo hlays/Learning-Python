{
 "cells": [
  {
   "cell_type": "code",
   "execution_count": 4,
   "metadata": {},
   "outputs": [
    {
     "name": "stdout",
     "output_type": "stream",
     "text": [
      "===Vamos calcular o seno, cosceno e tangente a partir de um ângulo informado===\n",
      "\n",
      "Digite o Angulo: 56\n",
      "O seno de 56.00° é 0.83\n",
      "O cosseno de 56.00° é 0.56\n",
      "A tangente de 56.00° é 1.48\n"
     ]
    }
   ],
   "source": [
    "#Exercício Python 018: Faça um programa que leia um ângulo qualquer e mostre na tela o valor do seno, \n",
    "#cosseno e tangente desse ângulo.\n",
    "\n",
    "from math import sin, cos, tan, radians\n",
    "print('===Vamos calcular o seno, cosceno e tangente a partir de um ângulo informado===')\n",
    "angulo = float(input('\\nDigite o Angulo: '))\n",
    "\n",
    "seno = sin(radians(angulo))\n",
    "print('O seno de {:.2f}° é {:.2f}'.format(angulo, seno))\n",
    "coss = cos(radians(angulo))\n",
    "print('O cosseno de {:.2f}° é {:.2f}'.format(angulo, coss))\n",
    "tang = tan(radians(angulo))\n",
    "print('A tangente de {:.2f}° é {:.2f}'.format(angulo, tang))"
   ]
  }
 ],
 "metadata": {
  "kernelspec": {
   "display_name": "Python 3",
   "language": "python",
   "name": "python3"
  },
  "language_info": {
   "codemirror_mode": {
    "name": "ipython",
    "version": 3
   },
   "file_extension": ".py",
   "mimetype": "text/x-python",
   "name": "python",
   "nbconvert_exporter": "python",
   "pygments_lexer": "ipython3",
   "version": "3.6.5"
  }
 },
 "nbformat": 4,
 "nbformat_minor": 2
}
