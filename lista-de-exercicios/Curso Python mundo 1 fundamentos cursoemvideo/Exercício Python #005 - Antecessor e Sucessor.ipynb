{
 "cells": [
  {
   "cell_type": "code",
   "execution_count": 3,
   "metadata": {},
   "outputs": [
    {
     "name": "stdout",
     "output_type": "stream",
     "text": [
      "Digite um número: 96\n",
      "\n",
      "O antecessor deste nº é 95\n",
      "O sucessor deste nº é 97\n",
      "\n",
      "***Fim***\n"
     ]
    }
   ],
   "source": [
    "n = int(input('Digite um número: '))\n",
    "n_antecessor = n - 1\n",
    "n_sucessor = n + 1\n",
    "print('\\nO antecessor deste nº é {}'.format(n_antecessor))\n",
    "print('O sucessor deste nº é {}'.format(n_sucessor))\n",
    "print('\\n***Fim***')"
   ]
  }
 ],
 "metadata": {
  "kernelspec": {
   "display_name": "Python 3",
   "language": "python",
   "name": "python3"
  },
  "language_info": {
   "codemirror_mode": {
    "name": "ipython",
    "version": 3
   },
   "file_extension": ".py",
   "mimetype": "text/x-python",
   "name": "python",
   "nbconvert_exporter": "python",
   "pygments_lexer": "ipython3",
   "version": "3.6.5"
  }
 },
 "nbformat": 4,
 "nbformat_minor": 2
}
