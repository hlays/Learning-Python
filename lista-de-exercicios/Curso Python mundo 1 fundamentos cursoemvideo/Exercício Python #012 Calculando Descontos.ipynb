{
 "cells": [
  {
   "cell_type": "code",
   "execution_count": 7,
   "metadata": {},
   "outputs": [
    {
     "name": "stdout",
     "output_type": "stream",
     "text": [
      "Informe o preço do produto: R$ 39.99\n",
      "Agora informe o % de desconto: 40\n",
      "\n",
      "Parabéns, você obteve um desconto de R$ 16.00\n",
      "O preço a ser pago pelo produto é R$ 23.99\n"
     ]
    }
   ],
   "source": [
    "p = float(input('Informe o preço do produto: R$ '))\n",
    "d = float(input('Agora informe o % de desconto: '))\n",
    "valor_do_desconto = p * (d/100)\n",
    "preco_com_desconto = p - valor_do_desconto\n",
    "print('\\nParabéns, você obteve um desconto de R$ {:.2f}'.format(valor_do_desconto))\n",
    "print('O preço a ser pago pelo produto é R$ {:.2f}'. format(preco_com_desconto))"
   ]
  }
 ],
 "metadata": {
  "kernelspec": {
   "display_name": "Python 3",
   "language": "python",
   "name": "python3"
  },
  "language_info": {
   "codemirror_mode": {
    "name": "ipython",
    "version": 3
   },
   "file_extension": ".py",
   "mimetype": "text/x-python",
   "name": "python",
   "nbconvert_exporter": "python",
   "pygments_lexer": "ipython3",
   "version": "3.6.5"
  }
 },
 "nbformat": 4,
 "nbformat_minor": 2
}
