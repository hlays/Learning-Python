{
 "cells": [
  {
   "cell_type": "code",
   "execution_count": 2,
   "metadata": {},
   "outputs": [
    {
     "name": "stdout",
     "output_type": "stream",
     "text": [
      "Vamos calcular a quantidade de tinta necessária para pintar a parede!\n",
      "Largura da parede: 5\n",
      "Altura da parede: 1.75\n",
      "\n",
      "A sua parede tem a dimensão 5.00 x 1.75 m, e sua área é de 8.75 m²\n",
      "Para pintar essa parede, será necessário 4.38 l de tinta\n"
     ]
    }
   ],
   "source": [
    "print('Vamos calcular a quantidade de tinta necessária para pintar a parede!')\n",
    "#1 litro de tinta para cada 2 m^2 de parede\n",
    "l = float(input('Largura da parede: '))\n",
    "h = float(input('Altura da parede: '))\n",
    "a = l * h \n",
    "t = (a/2)\n",
    "print('\\nA sua parede tem a dimensão {:.2f} x {:.2f} m, e sua área é de {:.2f} m²'.format(l, h, a))\n",
    "print('Para pintar essa parede, será necessário {:.2f} l de tinta'.format(t))"
   ]
  }
 ],
 "metadata": {
  "kernelspec": {
   "display_name": "Python 3",
   "language": "python",
   "name": "python3"
  },
  "language_info": {
   "codemirror_mode": {
    "name": "ipython",
    "version": 3
   },
   "file_extension": ".py",
   "mimetype": "text/x-python",
   "name": "python",
   "nbconvert_exporter": "python",
   "pygments_lexer": "ipython3",
   "version": "3.6.5"
  }
 },
 "nbformat": 4,
 "nbformat_minor": 2
}
