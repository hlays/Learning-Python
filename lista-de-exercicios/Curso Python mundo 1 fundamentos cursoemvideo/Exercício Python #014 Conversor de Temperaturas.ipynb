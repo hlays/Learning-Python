{
 "cells": [
  {
   "cell_type": "code",
   "execution_count": 3,
   "metadata": {},
   "outputs": [
    {
     "name": "stdout",
     "output_type": "stream",
     "text": [
      "Digite a temperatura em Celsius: 565\n",
      "\n",
      "565.0 ºC equivale a 1049.00 Fahrenheit\n",
      "Digite a temperatura em Fahrenreit: 658\n",
      "\n",
      "658.0 Fahrenheit equivale a 347.78 ºC. \n",
      "\n",
      "***FIM***\n"
     ]
    }
   ],
   "source": [
    "#Converta uma temperatura digitada em Celsius para Fahrenheit. F = 9*C/5 + 32\n",
    "c = float(input('Digite a temperatura em Celsius: '))\n",
    "f = 9*(c/5)+32\n",
    "print('\\n{} ºC equivale a {:.2f} Fahrenheit' .format(c,f))\n",
    "\n",
    "#Faça agora o contrário, de Fahrenheit para Celsius.\n",
    "f = float(input('Digite a temperatura em Fahrenreit: '))\n",
    "c = ((f - 32)/9)*5\n",
    "print('\\n{} Fahrenheit equivale a {:.2f} ºC. ' .format(f,c))\n",
    "print('\\n***FIM***')"
   ]
  }
 ],
 "metadata": {
  "kernelspec": {
   "display_name": "Python 3",
   "language": "python",
   "name": "python3"
  },
  "language_info": {
   "codemirror_mode": {
    "name": "ipython",
    "version": 3
   },
   "file_extension": ".py",
   "mimetype": "text/x-python",
   "name": "python",
   "nbconvert_exporter": "python",
   "pygments_lexer": "ipython3",
   "version": "3.6.5"
  }
 },
 "nbformat": 4,
 "nbformat_minor": 2
}
