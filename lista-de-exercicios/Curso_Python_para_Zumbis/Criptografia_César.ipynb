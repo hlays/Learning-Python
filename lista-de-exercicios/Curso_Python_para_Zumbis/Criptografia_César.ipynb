{
 "cells": [
  {
   "cell_type": "code",
   "execution_count": null,
   "metadata": {},
   "outputs": [],
   "source": []
  },
  {
   "cell_type": "code",
   "execution_count": 23,
   "metadata": {
    "scrolled": true
   },
   "outputs": [
    {
     "name": "stdout",
     "output_type": "stream",
     "text": [
      "***Criptografia de Mensagens***\n",
      "畿疜瘑畐疝疥疞疔疟畑\n",
      "Olá mundo!\n"
     ]
    }
   ],
   "source": [
    "print('***Criptografia de Mensagens***')\n",
    "\n",
    "def esconde(msg):\n",
    "    s = ''\n",
    "    for c in msg:\n",
    "        s += chr(ord(c) + 30000)\n",
    "    return s\n",
    "def mostra(msg):\n",
    "    s = ''\n",
    "    for c in msg:\n",
    "        s += chr(ord(c) - 30000)\n",
    "    return s\n",
    "\n",
    "print(esconde('Olá mundo!'))\n",
    "\n",
    "print(mostra('畿疜瘑畐疝疥疞疔疟畑'))\n"
   ]
  }
 ],
 "metadata": {
  "kernelspec": {
   "display_name": "Python 3",
   "language": "python",
   "name": "python3"
  },
  "language_info": {
   "codemirror_mode": {
    "name": "ipython",
    "version": 3
   },
   "file_extension": ".py",
   "mimetype": "text/x-python",
   "name": "python",
   "nbconvert_exporter": "python",
   "pygments_lexer": "ipython3",
   "version": "3.6.5"
  }
 },
 "nbformat": 4,
 "nbformat_minor": 2
}
