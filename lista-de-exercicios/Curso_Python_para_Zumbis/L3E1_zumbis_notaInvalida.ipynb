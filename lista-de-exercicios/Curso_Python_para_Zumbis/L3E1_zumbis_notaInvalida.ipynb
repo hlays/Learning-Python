{
 "cells": [
  {
   "cell_type": "markdown",
   "metadata": {},
   "source": [
    "## 1.Faça um programa que peça uma nota, entre zero e dez. Mostre uma mensagem caso o valor seja inválido e continue pedindo até que o usuário informe um valor válido."
   ]
  },
  {
   "cell_type": "code",
   "execution_count": 5,
   "metadata": {},
   "outputs": [
    {
     "name": "stdout",
     "output_type": "stream",
     "text": [
      "Insira a nota do aluno: 56\n",
      "\n",
      "ERRO! A nota digitada é inválida. Tente novamente...\n",
      "Insira a nota do aluno: 569\n",
      "\n",
      "ERRO! A nota digitada é inválida. Tente novamente...\n",
      "Insira a nota do aluno: 2\n",
      "\n",
      "A nota foi armazenada com sucesso! :D\n"
     ]
    }
   ],
   "source": [
    "nota = float(input('Insira a nota do aluno: '))\n",
    "while nota < 0 or nota > 10:\n",
    "    print('\\nERRO! A nota digitada é inválida. Tente novamente...')\n",
    "    nota = float(input('Insira a nota do aluno: '))\n",
    "else:\n",
    "    print('\\nA nota foi armazenada com sucesso! :D')\n",
    "\n",
    "   "
   ]
  }
 ],
 "metadata": {
  "kernelspec": {
   "display_name": "Python 3",
   "language": "python",
   "name": "python3"
  },
  "language_info": {
   "codemirror_mode": {
    "name": "ipython",
    "version": 3
   },
   "file_extension": ".py",
   "mimetype": "text/x-python",
   "name": "python",
   "nbconvert_exporter": "python",
   "pygments_lexer": "ipython3",
   "version": "3.6.5"
  }
 },
 "nbformat": 4,
 "nbformat_minor": 2
}
