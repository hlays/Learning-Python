{
 "cells": [
  {
   "cell_type": "code",
   "execution_count": null,
   "metadata": {},
   "outputs": [],
   "source": [
    "#Criado por Lays Marie Hidani\n",
    "import random\n",
    "print('ATENÇÃO!!! Bem-vindo(a) aos números da sorte da Mega-Sena\\\n",
    "\\n***Vamos sortear alguns números para você apostar!***')\n",
    "\n",
    "lista = []\n",
    "while len(lista) < 6:\n",
    "    x = random.randint(1,61)\n",
    "    if x not in lista:\n",
    "        lista.append(x)\n",
    "lista.sort()\n",
    "    \n",
    "    \n",
    "\n",
    "comecar = str(print(input('\\nDigite ESTOU COM SORTE para começar: ').upper()))\n",
    "\n",
    "if comecar == 'ESTOU COM SORTE':\n",
    "    print('\\n\\nOs números escolhidos são: {}'.format(lista))\n",
    "else:\n",
    "    print('Tente de novo')\n"
   ]
  }
 ],
 "metadata": {
  "kernelspec": {
   "display_name": "Python 3",
   "language": "python",
   "name": "python3"
  },
  "language_info": {
   "codemirror_mode": {
    "name": "ipython",
    "version": 3
   },
   "file_extension": ".py",
   "mimetype": "text/x-python",
   "name": "python",
   "nbconvert_exporter": "python",
   "pygments_lexer": "ipython3",
   "version": "3.6.5"
  }
 },
 "nbformat": 4,
 "nbformat_minor": 2
}
