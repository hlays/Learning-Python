{
 "cells": [
  {
   "cell_type": "markdown",
   "metadata": {},
   "source": [
    "## Defina uma função \"embaralha\", que retorne as letras de uma string misturadas\n"
   ]
  },
  {
   "cell_type": "code",
   "execution_count": 21,
   "metadata": {},
   "outputs": [
    {
     "name": "stdout",
     "output_type": "stream",
     "text": [
      "Digite uma palavra: orange\n",
      "A palavra embaralhada fica: gnaeor!\n"
     ]
    }
   ],
   "source": [
    "import random\n",
    "def embaralha (s):\n",
    "    lista = list(s)\n",
    "    random.shuffle(lista)\n",
    "    return ''.join(lista)\n",
    "\n",
    "s = input('Digite uma palavra: ')\n",
    "print('A palavra embaralhada fica: {}!'.format(embaralha(s)))\n"
   ]
  },
  {
   "cell_type": "code",
   "execution_count": null,
   "metadata": {},
   "outputs": [],
   "source": []
  }
 ],
 "metadata": {
  "kernelspec": {
   "display_name": "Python 3",
   "language": "python",
   "name": "python3"
  },
  "language_info": {
   "codemirror_mode": {
    "name": "ipython",
    "version": 3
   },
   "file_extension": ".py",
   "mimetype": "text/x-python",
   "name": "python",
   "nbconvert_exporter": "python",
   "pygments_lexer": "ipython3",
   "version": "3.6.5"
  }
 },
 "nbformat": 4,
 "nbformat_minor": 2
}
