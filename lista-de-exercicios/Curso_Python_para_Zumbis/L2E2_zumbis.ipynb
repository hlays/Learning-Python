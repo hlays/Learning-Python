{
 "cells": [
  {
   "cell_type": "markdown",
   "metadata": {},
   "source": [
    "# 2. Determine se um ano é bissexto.\n",
    "\n",
    "### Condições para o ano ser bissexto:\n",
    "\n",
    "Divisível por 4. Sendo assim, a divisão é exata com o resto igual a zero;\n",
    "\n",
    "Não pode ser divisível por 100. Com isso, a divisão não é exata, ou seja, deixa resto diferente de zero;\n",
    "\n",
    "Pode ser que seja divisível por 400."
   ]
  },
  {
   "cell_type": "code",
   "execution_count": null,
   "metadata": {},
   "outputs": [],
   "source": [
    "ano = int(input('Digite o ano que você deseja saber se é bissexto: '))\n",
    "\n",
    "if ano % 4 == 0 and (ano % 100 != 0 or ano % 400 == 0):\n",
    "    print(':) Sim! {} é um ano BISSEXTO!'.format(ano))\n",
    "else:\n",
    "    print(':/ {} não é um ano bissexto...'.format(ano))\n",
    "    \n",
    "acerto = str(input('\\nAcertamos??? (digite: sim ou não)').lower())\n",
    "if acerto == 'sim':\n",
    "\tprint('\\nFicamos felizes em saber!')\n",
    "elif acerto == 'não':\n",
    "\tprint('\\nAhh, que pena! onde será que erramos? ')"
   ]
  }
 ],
 "metadata": {
  "kernelspec": {
   "display_name": "Python 3",
   "language": "python",
   "name": "python3"
  },
  "language_info": {
   "codemirror_mode": {
    "name": "ipython",
    "version": 3
   },
   "file_extension": ".py",
   "mimetype": "text/x-python",
   "name": "python",
   "nbconvert_exporter": "python",
   "pygments_lexer": "ipython3",
   "version": "3.6.5"
  }
 },
 "nbformat": 4,
 "nbformat_minor": 2
}
