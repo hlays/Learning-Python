{
 "cells": [
  {
   "cell_type": "markdown",
   "metadata": {},
   "source": [
    "## 2.Faça um programa que leia um nome de usuário e a sua senha e não aceite a senha igual ao nome do usuário, mostrando uma mensagem de erro e voltando a pedir as informações."
   ]
  },
  {
   "cell_type": "code",
   "execution_count": 2,
   "metadata": {},
   "outputs": [
    {
     "name": "stdout",
     "output_type": "stream",
     "text": [
      "***REGISTRO***\n",
      "Digite um nome de usuário: rui\n",
      "Digite uma senha: ruI\n",
      "\n",
      " ERRO! A senha deve ser diferente do nome de usuário..Tente novamente!\n",
      "Digite um nome de usuário: vaLe\n",
      "Digite uma senha: Vale\n",
      "\n",
      " ERRO! A senha deve ser diferente do nome de usuário..Tente novamente!\n",
      "Digite um nome de usuário: juju\n",
      "Digite uma senha: juju\n",
      "\n",
      " ERRO! A senha deve ser diferente do nome de usuário..Tente novamente!\n",
      "Digite um nome de usuário: juju\n",
      "Digite uma senha: june\n",
      "Usuário cadastrado com sucesso!\n"
     ]
    }
   ],
   "source": [
    "print('***REGISTRO***')\n",
    "nome = str(input('Digite um nome de usuário: '))\n",
    "senha = str(input('Digite uma senha: '))\n",
    "while nome.lower() == senha.lower():\n",
    "    print('\\n ERRO! A senha deve ser diferente do nome de usuário..Tente novamente!')\n",
    "    nome = str(input('Digite um nome de usuário: '))\n",
    "    senha = str(input('Digite uma senha: '))\n",
    "else:\n",
    "    print('Usuário cadastrado com sucesso!')"
   ]
  }
 ],
 "metadata": {
  "kernelspec": {
   "display_name": "Python 3",
   "language": "python",
   "name": "python3"
  },
  "language_info": {
   "codemirror_mode": {
    "name": "ipython",
    "version": 3
   },
   "file_extension": ".py",
   "mimetype": "text/x-python",
   "name": "python",
   "nbconvert_exporter": "python",
   "pygments_lexer": "ipython3",
   "version": "3.6.5"
  }
 },
 "nbformat": 4,
 "nbformat_minor": 2
}
