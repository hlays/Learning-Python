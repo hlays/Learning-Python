{
 "cells": [
  {
   "cell_type": "markdown",
   "metadata": {},
   "source": [
    "## 4. Faça um Programa que leia três números e mostre o maior e o menor deles."
   ]
  },
  {
   "cell_type": "code",
   "execution_count": null,
   "metadata": {},
   "outputs": [],
   "source": [
    "n1 = float(input('Insira um número: '))\n",
    "n2 = float(input('Insira mais um número: '))\n",
    "n3 = float(input('Insira mais um número: '))\n",
    "\n",
    "if n1 <= n2 and n1 <= n3:\n",
    "\tprint('\\nNós analisamos seus números e descobrimos que {:.1f} é o menor deles!'.format(n1))\n",
    "elif n2 <= n1 and n2 <= n3:\n",
    "\tprint('Nós analisamos seus números e descobrimos que {:.1f} é o menor deles!'.format(n2))\n",
    "else:\n",
    "\tprint('Nós analisamos seus números e descobrimos que {:.1f} é o menor deles!'.format(n3))\n",
    "\n",
    "acerto = str(input('\\nAcertamos??? (digite: sim ou não)').lower())\n",
    "if acerto == 'sim':\n",
    "\tprint('\\nFicamos felizes em saber!')\n",
    "elif acerto == 'não':\n",
    "\tprint('\\nAhh, que pena! onde será que erramos? ')"
   ]
  },
  {
   "cell_type": "code",
   "execution_count": null,
   "metadata": {},
   "outputs": [],
   "source": []
  }
 ],
 "metadata": {
  "kernelspec": {
   "display_name": "Python 3",
   "language": "python",
   "name": "python3"
  },
  "language_info": {
   "codemirror_mode": {
    "name": "ipython",
    "version": 3
   },
   "file_extension": ".py",
   "mimetype": "text/x-python",
   "name": "python",
   "nbconvert_exporter": "python",
   "pygments_lexer": "ipython3",
   "version": "3.6.5"
  }
 },
 "nbformat": 4,
 "nbformat_minor": 2
}
