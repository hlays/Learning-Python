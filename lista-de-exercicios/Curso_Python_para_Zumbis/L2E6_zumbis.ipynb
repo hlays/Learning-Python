{
 "cells": [
  {
   "cell_type": "markdown",
   "metadata": {},
   "source": [
    "## 6. Faça um Programa que pergunte quanto você ganha por hora e o número de horas trabalhadas no mês. Calcule e mostre o total do seu salário no referido mês, sabendo-se que são descontados 11% para o Imposto de Renda, 8% para o INSS e 5% para o sindicato, faça um programa que nos dê o salário bruto, quanto pagou ao INSS, quanto pagou ao sindicato e o salário líquido. Observe que Salário Bruto - Descontos = Salário Líquido. Calcule os descontos e o salário líquido, conforme a tabela abaixo:\n",
    "\n",
    "a. + Salário Bruto : R$\n",
    "\n",
    "b. - IR (11%) : R$\n",
    "\n",
    "c. - INSS (8%) : R$\n",
    "\n",
    "d. - Sindicato ( 5%) : R$\n",
    "\n",
    "e. = Salário Liquido : R$"
   ]
  },
  {
   "cell_type": "code",
   "execution_count": 2,
   "metadata": {},
   "outputs": [
    {
     "name": "stdout",
     "output_type": "stream",
     "text": [
      "Informe o valor de seu salário bruto: R$ 4500\n",
      "O total das taxas pagas é R$ 1080.00\n",
      "Sendo:\n",
      "IR: R$ 495.00, \n",
      "INSS: R$ 360.00, \n",
      "Sindicato: R$ 225.00\n",
      "\n",
      "O valor de seu salário líquido é: R$ 3420.00\n"
     ]
    }
   ],
   "source": [
    "s_bruto = float(input('Informe o valor de seu salário bruto: R$ '))\n",
    "ir = s_bruto * 0.11\n",
    "inss = s_bruto * 0.08\n",
    "sindic = s_bruto * 0.05\n",
    "desc = ir + inss + sindic\n",
    "s_liq = s_bruto - desc\n",
    "print('O total das taxas pagas é R$ {:.2f}'.format(desc))\n",
    "print('Sendo:\\nIR: R$ {:.2f}, \\nINSS: R$ {:.2f}, \\nSindicato: R$ {:.2f}'.format(ir, inss, sindic))\n",
    "print('\\nO valor de seu salário líquido é: R$ {:.2f}'.format(s_liq))"
   ]
  }
 ],
 "metadata": {
  "kernelspec": {
   "display_name": "Python 3",
   "language": "python",
   "name": "python3"
  },
  "language_info": {
   "codemirror_mode": {
    "name": "ipython",
    "version": 3
   },
   "file_extension": ".py",
   "mimetype": "text/x-python",
   "name": "python",
   "nbconvert_exporter": "python",
   "pygments_lexer": "ipython3",
   "version": "3.6.5"
  }
 },
 "nbformat": 4,
 "nbformat_minor": 2
}
