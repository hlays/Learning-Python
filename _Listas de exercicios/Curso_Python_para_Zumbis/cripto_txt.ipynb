{
 "cells": [
  {
   "cell_type": "markdown",
   "metadata": {},
   "source": [
    "### Leia uma mensagem.txt e grave cripto.txt, trocando todas as vogais por '*'"
   ]
  },
  {
   "cell_type": "code",
   "execution_count": 20,
   "metadata": {},
   "outputs": [
    {
     "name": "stdout",
     "output_type": "stream",
     "text": [
      "<_io.TextIOWrapper name='cripto.txt' mode='r' encoding='cp1252'>\n"
     ]
    }
   ],
   "source": [
    "texto = open('mensagem.txt')\n",
    "saida = open('cripto.txt', 'w')\n",
    "\n",
    "for linha in texto.readlines():\n",
    "    for letra in linha:\n",
    "        if letra in 'aeiouáéíóúãõ':\n",
    "            saida.write('*')\n",
    "        else:\n",
    "            saida.write(letra)\n",
    "\n",
    "texto.close()\n",
    "saida.close()"
   ]
  }
 ],
 "metadata": {
  "kernelspec": {
   "display_name": "Python 3",
   "language": "python",
   "name": "python3"
  },
  "language_info": {
   "codemirror_mode": {
    "name": "ipython",
    "version": 3
   },
   "file_extension": ".py",
   "mimetype": "text/x-python",
   "name": "python",
   "nbconvert_exporter": "python",
   "pygments_lexer": "ipython3",
   "version": "3.6.5"
  }
 },
 "nbformat": 4,
 "nbformat_minor": 2
}
