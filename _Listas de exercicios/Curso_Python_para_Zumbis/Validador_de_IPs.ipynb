{
 "cells": [
  {
   "cell_type": "code",
   "execution_count": 13,
   "metadata": {},
   "outputs": [],
   "source": [
    "def ip_ok(ip):\n",
    "    ip = ip.split('.')\n",
    "    for byte in ip:\n",
    "        if int(byte) > 255:\n",
    "            return False\n",
    "    return True\n",
    "     \n",
    "arquivo = open('Validador_de_IPs.txt', 'r')\n",
    "validos = open('Validador_de_IPs_validos.txt', 'w')\n",
    "invalidos = open('Validador_de_IPs_invalidos.txt', 'w')\n",
    "\n",
    "for linha in arquivo.readlines():\n",
    "    if ip_ok(linha):\n",
    "        validos.write(linha)\n",
    "    else:\n",
    "        invalidos.write(linha)\n",
    "\n",
    "arquivo.close()\n",
    "validos.close()\n",
    "invalidos.close()\n",
    "        \n"
   ]
  }
 ],
 "metadata": {
  "kernelspec": {
   "display_name": "Python 3",
   "language": "python",
   "name": "python3"
  },
  "language_info": {
   "codemirror_mode": {
    "name": "ipython",
    "version": 3
   },
   "file_extension": ".py",
   "mimetype": "text/x-python",
   "name": "python",
   "nbconvert_exporter": "python",
   "pygments_lexer": "ipython3",
   "version": "3.6.5"
  }
 },
 "nbformat": 4,
 "nbformat_minor": 2
}
