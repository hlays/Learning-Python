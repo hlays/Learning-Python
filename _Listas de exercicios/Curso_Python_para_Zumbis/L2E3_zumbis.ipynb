{
 "cells": [
  {
   "cell_type": "markdown",
   "metadata": {},
   "source": [
    "## 3. João Papo-de-Pescador, homem de bem, comprou um microcomputador para controlar o rendimento diário de seu trabalho. Toda vez que ele traz um peso de peixes maior que o estabelecido pelo regulamento de pesca do estado de São Paulo (50 quilos) deve pagar uma multa de R$ 4,00 por quilo excedente. João precisa que você faça um programa que leia a variável peso (peso de peixes) e verifique se há excesso. Se houver, gravar na variável excesso e na variável multa o valor da multa que João deverá pagar. Caso contrário mostrar tais variáveis com o conteúdo ZERO."
   ]
  },
  {
   "cell_type": "code",
   "execution_count": 2,
   "metadata": {},
   "outputs": [
    {
     "name": "stdout",
     "output_type": "stream",
     "text": [
      "Olá! Quantos kilos de peixe você pescou hoje? 60\n",
      ":/ Houve um excesso de 10.000 kg\n",
      "Portanto, há uma multa no valor de R$ 40.00\n"
     ]
    }
   ],
   "source": [
    "peso = float(input('Olá! Quantos kilos de peixe você pescou hoje? '))\n",
    "if peso <= 50:\n",
    "    print('Parabéns! Não há multa a pagar :D')\n",
    "else:\n",
    "    excesso = peso - 50\n",
    "    multa = excesso * 4\n",
    "    print(':/ Houve um excesso de {:.3f} kg'.format(excesso))\n",
    "    print('Portanto, há uma multa no valor de R$ {:.2f}'.format(multa))"
   ]
  }
 ],
 "metadata": {
  "kernelspec": {
   "display_name": "Python 3",
   "language": "python",
   "name": "python3"
  },
  "language_info": {
   "codemirror_mode": {
    "name": "ipython",
    "version": 3
   },
   "file_extension": ".py",
   "mimetype": "text/x-python",
   "name": "python",
   "nbconvert_exporter": "python",
   "pygments_lexer": "ipython3",
   "version": "3.6.5"
  }
 },
 "nbformat": 4,
 "nbformat_minor": 2
}
