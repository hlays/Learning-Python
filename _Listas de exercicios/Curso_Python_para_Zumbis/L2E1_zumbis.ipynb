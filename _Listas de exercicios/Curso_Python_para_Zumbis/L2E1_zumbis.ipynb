{
 "cells": [
  {
   "cell_type": "markdown",
   "metadata": {},
   "source": [
    "# 1. Faça um Programa que peça os três lados de um triângulo. O programa deverá informar se os valores podem ser um triângulo. Indique, caso os lados formem um triângulo, se o mesmo é: equilátero, isósceles ou escaleno.\n"
   ]
  },
  {
   "cell_type": "markdown",
   "metadata": {},
   "source": [
    "### Condição de existência de um triângulo"
   ]
  },
  {
   "cell_type": "markdown",
   "metadata": {},
   "source": [
    "Só irá existir um triângulo se, somente se, os seus lados obedeceram à seguinte regra: um de seus lados deve ser maior que o valor absoluto (módulo) da diferença dos outros dois lados e menor que a soma dos outros dois lados. Veja o resumo da regra abaixo: \n",
    "\n",
    "| b - c | < a < b + c \n",
    "\n",
    "| a - c | < b < a + c \n",
    "\n",
    "| a - b | < c < a + b \n",
    "\n",
    "#### Equilátero, isósceles ou escaleno\n",
    "\n",
    "Triângulo equilátero: possui os três lados com medidas iguais.\n",
    "\n",
    "Triângulo isósceles: possui dois lados com medidas iguais.\n",
    "\n",
    "Triângulo escaleno: possui os três lados com medidas diferentes. "
   ]
  },
  {
   "cell_type": "code",
   "execution_count": null,
   "metadata": {},
   "outputs": [],
   "source": [
    "a = float(input('Qual o valor de a? '))\n",
    "b = float(input('Qual o valor de b? '))\n",
    "c = float(input('Qual o valor de c? '))\n",
    "\n",
    "if a > b + c or b > a + c or c > a + b:\n",
    "    print('Não é um triângulo! Pois um dos lados é maior do que a soma dos outros dois.')\n",
    "    \n",
    "elif a == b == c:\n",
    "    print('É um triângulo EQUILATERO!')\n",
    "    \n",
    "elif a == b or a == c or c == b:\n",
    "    print('É um triângulo ISOSCELES!')\n",
    "\n",
    "elif a != b or a != c or b != c:\n",
    "    print('É um triângulo ESCALENO!')\n"
   ]
  },
  {
   "cell_type": "code",
   "execution_count": null,
   "metadata": {},
   "outputs": [],
   "source": []
  }
 ],
 "metadata": {
  "kernelspec": {
   "display_name": "Python 3",
   "language": "python",
   "name": "python3"
  },
  "language_info": {
   "codemirror_mode": {
    "name": "ipython",
    "version": 3
   },
   "file_extension": ".py",
   "mimetype": "text/x-python",
   "name": "python",
   "nbconvert_exporter": "python",
   "pygments_lexer": "ipython3",
   "version": "3.6.5"
  }
 },
 "nbformat": 4,
 "nbformat_minor": 2
}
