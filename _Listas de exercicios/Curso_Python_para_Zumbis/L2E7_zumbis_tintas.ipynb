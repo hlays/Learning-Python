{
 "cells": [
  {
   "cell_type": "markdown",
   "metadata": {},
   "source": [
    "## 7 . Faça um programa para uma loja de tintas. O programa deverá pedir o tamanho em metros quadrados da área a ser pintada. Considere que a cobertura da tinta é de 1 litro para cada 3 metros quadrados e que a tinta é vendida em latas de 18 litros, que custam R$ 80,00. Informe ao usuário a quantidades de latas de tinta a serem compradas e o preço total. Obs. : somente são vendidos um número inteiro de latas."
   ]
  },
  {
   "cell_type": "code",
   "execution_count": 12,
   "metadata": {},
   "outputs": [
    {
     "name": "stdout",
     "output_type": "stream",
     "text": [
      "Informe a área em m² a ser pintada: 250\n",
      "Para pintar 250.00 m², serão necessárias 5.00 lata(s) de tinta 18l.\n",
      "O valor total para comprar 5.00 lata(s) é R$ 400.00.\n"
     ]
    }
   ],
   "source": [
    "a = float(input('Informe a área em m² a ser pintada: '))\n",
    "from math import trunc\n",
    "litros = (a / 3)\n",
    "round(litros)\n",
    "latas = (litros / 18)\n",
    "if latas < 1:\n",
    "    latas_int = 1\n",
    "else:\n",
    "    latas_int = round(latas)\n",
    "\n",
    "preco = latas_int * 80\n",
    "\n",
    "print('Para pintar {:.2f} m², serão necessárias {:.2f} lata(s) de tinta 18l.'.format(a, latas_int))\n",
    "print('O valor total para comprar {:.2f} lata(s) é R$ {:.2f}.'.format(latas_int, preco))\n",
    "\n"
   ]
  }
 ],
 "metadata": {
  "kernelspec": {
   "display_name": "Python 3",
   "language": "python",
   "name": "python3"
  },
  "language_info": {
   "codemirror_mode": {
    "name": "ipython",
    "version": 3
   },
   "file_extension": ".py",
   "mimetype": "text/x-python",
   "name": "python",
   "nbconvert_exporter": "python",
   "pygments_lexer": "ipython3",
   "version": "3.6.5"
  }
 },
 "nbformat": 4,
 "nbformat_minor": 2
}
