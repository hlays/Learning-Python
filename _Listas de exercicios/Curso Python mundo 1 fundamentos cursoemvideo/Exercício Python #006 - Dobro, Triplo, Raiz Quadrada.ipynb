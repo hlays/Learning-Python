{
 "cells": [
  {
   "cell_type": "code",
   "execution_count": 5,
   "metadata": {},
   "outputs": [
    {
     "name": "stdout",
     "output_type": "stream",
     "text": [
      "Digite um nº: 4\n",
      "\n",
      "O dobro deste nº é: 8\n",
      "O triplo deste nº é: 12\n",
      "A raíz quadrada deste nº é: 2\n"
     ]
    }
   ],
   "source": [
    "n = int(input('Digite um nº: '))\n",
    "dobro = n * 2\n",
    "triplo = n * 3\n",
    "raiz = n * (1/2)\n",
    "print('\\nO dobro deste nº é: {}'.format(dobro))\n",
    "print('O triplo deste nº é: {}'.format(triplo))\n",
    "print('A raíz quadrada deste nº é: {:.0f}'.format(raiz))"
   ]
  }
 ],
 "metadata": {
  "kernelspec": {
   "display_name": "Python 3",
   "language": "python",
   "name": "python3"
  },
  "language_info": {
   "codemirror_mode": {
    "name": "ipython",
    "version": 3
   },
   "file_extension": ".py",
   "mimetype": "text/x-python",
   "name": "python",
   "nbconvert_exporter": "python",
   "pygments_lexer": "ipython3",
   "version": "3.6.5"
  }
 },
 "nbformat": 4,
 "nbformat_minor": 2
}
