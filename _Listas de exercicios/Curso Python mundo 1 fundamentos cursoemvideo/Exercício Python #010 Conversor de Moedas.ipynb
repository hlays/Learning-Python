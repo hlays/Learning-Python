{
 "cells": [
  {
   "cell_type": "code",
   "execution_count": 18,
   "metadata": {},
   "outputs": [
    {
     "name": "stdout",
     "output_type": "stream",
     "text": [
      "Digite o valor que você deseja converter para dólares: R$ 5\n",
      "\n",
      " R$ 5.00 equivalem a U$ 1.23.\n"
     ]
    }
   ],
   "source": [
    "vreais = float(input('Digite o valor que você deseja converter para dólares: R$ '))\n",
    "dolar = vreais / 4.06\n",
    "print('\\n R$ {:.2f} equivalem a U$ {:.2f}.'.format(vreais, dolar))\n",
    "       "
   ]
  }
 ],
 "metadata": {
  "kernelspec": {
   "display_name": "Python 3",
   "language": "python",
   "name": "python3"
  },
  "language_info": {
   "codemirror_mode": {
    "name": "ipython",
    "version": 3
   },
   "file_extension": ".py",
   "mimetype": "text/x-python",
   "name": "python",
   "nbconvert_exporter": "python",
   "pygments_lexer": "ipython3",
   "version": "3.6.5"
  }
 },
 "nbformat": 4,
 "nbformat_minor": 2
}
