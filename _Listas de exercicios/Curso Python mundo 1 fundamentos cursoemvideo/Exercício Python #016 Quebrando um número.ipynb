{
 "cells": [
  {
   "cell_type": "code",
   "execution_count": 2,
   "metadata": {},
   "outputs": [
    {
     "name": "stdout",
     "output_type": "stream",
     "text": [
      "Insira um número real (ex: 8.99): 8.45\n",
      "A porção inteira do número digitado é 8\n"
     ]
    }
   ],
   "source": [
    "#Exercício Python 016: Crie um programa que leia um número Real qualquer pelo teclado e mostre na tela a sua porção Inteira.\n",
    "n = float(input('Insira um número real (ex: 8.99): '))\n",
    "print('A porção inteira do número digitado é {:.0f}'.format(n))"
   ]
  },
  {
   "cell_type": "code",
   "execution_count": 3,
   "metadata": {},
   "outputs": [
    {
     "name": "stdout",
     "output_type": "stream",
     "text": [
      "Insira um número real (ex: 8.99): 9.69\n",
      "A porção inteira do número digitado é 9\n"
     ]
    }
   ],
   "source": [
    "#outra forma, usando import\n",
    "from math import trunc\n",
    "n = float(input('Insira um número real (ex: 8.99): '))\n",
    "print('A porção inteira do número digitado é {}'.format(trunc(n)))"
   ]
  },
  {
   "cell_type": "code",
   "execution_count": null,
   "metadata": {},
   "outputs": [],
   "source": []
  }
 ],
 "metadata": {
  "kernelspec": {
   "display_name": "Python 3",
   "language": "python",
   "name": "python3"
  },
  "language_info": {
   "codemirror_mode": {
    "name": "ipython",
    "version": 3
   },
   "file_extension": ".py",
   "mimetype": "text/x-python",
   "name": "python",
   "nbconvert_exporter": "python",
   "pygments_lexer": "ipython3",
   "version": "3.6.5"
  }
 },
 "nbformat": 4,
 "nbformat_minor": 2
}
