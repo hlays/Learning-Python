{
 "cells": [
  {
   "cell_type": "code",
   "execution_count": 2,
   "metadata": {},
   "outputs": [
    {
     "name": "stdout",
     "output_type": "stream",
     "text": [
      "Informe o salário do funcionário R$ 4500\n",
      "Informe o % de aumento salarial 15\n",
      "\n",
      "Parabéns você teve um acréscimo de R$ 675.00!\n",
      "O salário agora é R$ 5175.00\n"
     ]
    }
   ],
   "source": [
    "salario_antes = float(input('Informe o salário do funcionário R$ '))\n",
    "aumento_perc = float(input('Informe o % de aumento salarial '))\n",
    "aumento = salario_antes * (aumento_perc/100)\n",
    "salario_agora = salario_antes + aumento\n",
    "\n",
    "print('\\nParabéns você teve um acréscimo de R$ {:.2f}!'.format(aumento))\n",
    "print('O salário agora é R$ {:.2f}'.format(salario_agora))\n"
   ]
  }
 ],
 "metadata": {
  "kernelspec": {
   "display_name": "Python 3",
   "language": "python",
   "name": "python3"
  },
  "language_info": {
   "codemirror_mode": {
    "name": "ipython",
    "version": 3
   },
   "file_extension": ".py",
   "mimetype": "text/x-python",
   "name": "python",
   "nbconvert_exporter": "python",
   "pygments_lexer": "ipython3",
   "version": "3.6.5"
  }
 },
 "nbformat": 4,
 "nbformat_minor": 2
}
