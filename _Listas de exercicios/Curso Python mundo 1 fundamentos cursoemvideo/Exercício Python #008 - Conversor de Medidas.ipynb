{
 "cells": [
  {
   "cell_type": "code",
   "execution_count": 3,
   "metadata": {},
   "outputs": [
    {
     "name": "stdout",
     "output_type": "stream",
     "text": [
      "Informe a medida em metros: 25\n",
      "\n",
      "25.000 m equivale a: \n",
      "<0.025 km>\n",
      "<0.250 hm>\n",
      "<2.500 dam>\n",
      "<2500.000 cm>\n",
      "<25000.000 mm>\n"
     ]
    }
   ],
   "source": [
    "m = float(input('Informe a medida em metros: '))\n",
    "km = m / 1000\n",
    "hm = m / 100\n",
    "dam = m / 10\n",
    "dm = m * 10\n",
    "cm = m * 100\n",
    "mm = m * 1000\n",
    "\n",
    "print('\\n{:.3f} m equivale a: '.format(m))\n",
    "print('<{:.3f} km>'.format(km))\n",
    "print('<{:.3f} hm>'.format(hm))\n",
    "print('<{:.3f} dam>'.format(dam))\n",
    "print('<{:.3f} cm>'.format(cm))\n",
    "print('<{:.3f} mm>'.format(mm))"
   ]
  }
 ],
 "metadata": {
  "kernelspec": {
   "display_name": "Python 3",
   "language": "python",
   "name": "python3"
  },
  "language_info": {
   "codemirror_mode": {
    "name": "ipython",
    "version": 3
   },
   "file_extension": ".py",
   "mimetype": "text/x-python",
   "name": "python",
   "nbconvert_exporter": "python",
   "pygments_lexer": "ipython3",
   "version": "3.6.5"
  }
 },
 "nbformat": 4,
 "nbformat_minor": 2
}
