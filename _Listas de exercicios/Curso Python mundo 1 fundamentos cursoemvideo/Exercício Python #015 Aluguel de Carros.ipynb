{
 "cells": [
  {
   "cell_type": "code",
   "execution_count": 2,
   "metadata": {},
   "outputs": [
    {
     "name": "stdout",
     "output_type": "stream",
     "text": [
      "Informe a quantidade de dias pelos quais o veículo foi alugado: 8\n",
      "Informe a quantidade de km percorridos pelo veículo: 720\n",
      "\n",
      "O valor a ser pago é de R$ 588.00\n"
     ]
    }
   ],
   "source": [
    "#Exercício Python 015: Escreva um programa que pergunte a quantidade de Km percorridos por um carro alugado e a quantidade \n",
    "#de dias pelos quais ele foi alugado. Calcule o preço a pagar, sabendo que o carro custa R$60 por dia e R$0,15 por Km rodado.\n",
    "\n",
    "dias = int(input('Informe a quantidade de dias pelos quais o veículo foi alugado: '))\n",
    "km = float(input('Informe a quantidade de km percorridos pelo veículo: '))\n",
    "preco = (dias * 60) + (km * 0.15)\n",
    "print('\\nO valor a ser pago é de R$ {:.2f}'.format(preco))"
   ]
  }
 ],
 "metadata": {
  "kernelspec": {
   "display_name": "Python 3",
   "language": "python",
   "name": "python3"
  },
  "language_info": {
   "codemirror_mode": {
    "name": "ipython",
    "version": 3
   },
   "file_extension": ".py",
   "mimetype": "text/x-python",
   "name": "python",
   "nbconvert_exporter": "python",
   "pygments_lexer": "ipython3",
   "version": "3.6.5"
  }
 },
 "nbformat": 4,
 "nbformat_minor": 2
}
