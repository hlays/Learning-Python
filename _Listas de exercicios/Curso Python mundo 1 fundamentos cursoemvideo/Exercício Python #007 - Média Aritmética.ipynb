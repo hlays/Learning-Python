{
 "cells": [
  {
   "cell_type": "code",
   "execution_count": 2,
   "metadata": {},
   "outputs": [
    {
     "name": "stdout",
     "output_type": "stream",
     "text": [
      "Olá! Vamos calcular a média do aluno!\n",
      "Qual foi a primeira nota? 5\n",
      "Qual foi a segunda nota? 8.96\n",
      "Qual foi a terceira nota? 5.69\n",
      "\n",
      "A média final é: 6.55\n"
     ]
    }
   ],
   "source": [
    "print('Olá! Vamos calcular a média do aluno!')\n",
    "nota1 = float(input('Qual foi a primeira nota? '))\n",
    "nota2 = float(input('Qual foi a segunda nota? '))\n",
    "nota3 = float(input('Qual foi a terceira nota? '))\n",
    "nf = (nota1 + nota2 + nota3)/3\n",
    "\n",
    "print('\\nA média final é: {:.2f}'.format(nf))"
   ]
  }
 ],
 "metadata": {
  "kernelspec": {
   "display_name": "Python 3",
   "language": "python",
   "name": "python3"
  },
  "language_info": {
   "codemirror_mode": {
    "name": "ipython",
    "version": 3
   },
   "file_extension": ".py",
   "mimetype": "text/x-python",
   "name": "python",
   "nbconvert_exporter": "python",
   "pygments_lexer": "ipython3",
   "version": "3.6.5"
  }
 },
 "nbformat": 4,
 "nbformat_minor": 2
}
