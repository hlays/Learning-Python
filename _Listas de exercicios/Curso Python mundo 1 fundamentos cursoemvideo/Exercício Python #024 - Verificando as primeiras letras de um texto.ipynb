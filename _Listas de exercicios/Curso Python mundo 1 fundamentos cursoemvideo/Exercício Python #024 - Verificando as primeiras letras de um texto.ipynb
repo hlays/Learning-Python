{
 "cells": [
  {
   "cell_type": "code",
   "execution_count": 8,
   "metadata": {},
   "outputs": [
    {
     "name": "stdout",
     "output_type": "stream",
     "text": [
      "Exercício Python 024: Crie um programa que leia o nome de uma cidade e \n",
      "diga se ela começa ou não com o nome \"SANTO\".\n",
      "Digite o nome da cidade: santoxaskj\n",
      "Errado!\n"
     ]
    }
   ],
   "source": [
    "print('Exercício Python 024: Crie um programa que leia o nome de uma cidade e \\ndiga se ela começa ou não com o nome \"SANTO\".')\n",
    "nome = str(input('Digite o nome da cidade: ').upper()).strip()\n",
    "if nome[:5] == 'SANTO ':\n",
    "    print('Correto')\n",
    "else:\n",
    "    print('Errado!')\n"
   ]
  }
 ],
 "metadata": {
  "kernelspec": {
   "display_name": "Python 3",
   "language": "python",
   "name": "python3"
  },
  "language_info": {
   "codemirror_mode": {
    "name": "ipython",
    "version": 3
   },
   "file_extension": ".py",
   "mimetype": "text/x-python",
   "name": "python",
   "nbconvert_exporter": "python",
   "pygments_lexer": "ipython3",
   "version": "3.6.5"
  }
 },
 "nbformat": 4,
 "nbformat_minor": 2
}
