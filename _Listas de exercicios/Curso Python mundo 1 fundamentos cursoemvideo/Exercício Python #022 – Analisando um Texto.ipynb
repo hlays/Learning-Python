{
 "cells": [
  {
   "cell_type": "code",
   "execution_count": 27,
   "metadata": {},
   "outputs": [
    {
     "name": "stdout",
     "output_type": "stream",
     "text": [
      "Exercício Python 022: Crie um programa que leia o nome completo de uma pessoa e mostre:\n",
      "\n",
      "– O nome com todas as letras maiúsculas e minúsculas;\n",
      "\n",
      "– Quantas letras ao todo (sem considerar espaços);\n",
      "\n",
      "– Quantas letras tem o primeiro nome.\n",
      "\n",
      "Vamos analisar o seu nome!\n",
      "Digite seu nome completo: june maria hidania\n",
      "Seu nome com todas as letras maiúsculas é:  JUNE MARIA HIDANIA\n",
      "Seu nome com todas as letras minúsculas é:  june maria hidania\n",
      "Seu nome completo tem 16 letras\n",
      "Seu primeiro nome é June e ele tem 4 letras\n",
      "Seu primeiro nome é June e ele tem 4 letras\n"
     ]
    }
   ],
   "source": [
    "print('''Exercício Python 022: Crie um programa que leia o nome completo de uma pessoa e mostre:\n",
    "\\n– O nome com todas as letras maiúsculas e minúsculas;\n",
    "\\n– Quantas letras ao todo (sem considerar espaços);\n",
    "\\n– Quantas letras tem o primeiro nome.\n",
    "\\nVamos analisar o seu nome!''')\n",
    "nome = str(input('Digite seu nome completo: ').title()).strip()\n",
    "print('Seu nome com todas as letras maiúsculas é: ', nome.upper())\n",
    "print('Seu nome com todas as letras minúsculas é: ', nome.lower())\n",
    "print('Seu nome completo tem {} letras'.format(len(nome) - nome.count(' ')))\n",
    "#Há 2 formas de resolver a próxima linha de comando:\n",
    "s = nome.split()\n",
    "#1 utilizando find(' '), pois o programa irá procurar o primeiro espaço entre um nome e outro\n",
    "#e retornar essa posição, que é o mesmo que contar a quantidade de caractéres do primeiro nome\n",
    "print('Seu primeiro nome é {} e ele tem {} letras'.format(s[0], nome.find(' ')))\n",
    "#2 utilizando o comando len\n",
    "print('Seu primeiro nome é {} e ele tem {} letras'.format(s[0], len(s[0])))"
   ]
  },
  {
   "cell_type": "code",
   "execution_count": null,
   "metadata": {},
   "outputs": [],
   "source": []
  }
 ],
 "metadata": {
  "kernelspec": {
   "display_name": "Python 3",
   "language": "python",
   "name": "python3"
  },
  "language_info": {
   "codemirror_mode": {
    "name": "ipython",
    "version": 3
   },
   "file_extension": ".py",
   "mimetype": "text/x-python",
   "name": "python",
   "nbconvert_exporter": "python",
   "pygments_lexer": "ipython3",
   "version": "3.6.5"
  }
 },
 "nbformat": 4,
 "nbformat_minor": 2
}
