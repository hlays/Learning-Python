{
 "cells": [
  {
   "cell_type": "code",
   "execution_count": 3,
   "metadata": {},
   "outputs": [
    {
     "name": "stdout",
     "output_type": "stream",
     "text": [
      "Digite um nº para ver sua tabuada: 6\n",
      "\n",
      "===============\n",
      "6 * 1 = 6\n",
      "6 * 2 = 12\n",
      "6 * 3 = 18\n",
      "6 * 4 = 24\n",
      "6 * 5 = 30\n",
      "6 * 6 = 36\n",
      "6 * 7 = 42\n",
      "6 * 8 = 48\n",
      "6 * 9 = 54\n",
      "6 * 10 = 60\n",
      "=================\n"
     ]
    }
   ],
   "source": [
    "n = int(input('Digite um nº para ver sua tabuada: '))\n",
    "n1 = n * 1 \n",
    "n2 = n * 2\n",
    "n3 = n * 3\n",
    "n4 = n * 4\n",
    "n5 = n * 5 \n",
    "n6 = n * 6\n",
    "n7 = n * 7\n",
    "n8 = n * 8\n",
    "n9 = n * 9\n",
    "n10 = n * 10\n",
    "print('\\n===============')\n",
    "print('{} * 1 = {}'.format(n, n1))\n",
    "print('{} * 2 = {}'.format(n, n2))\n",
    "print('{} * 3 = {}'.format(n, n3))\n",
    "print('{} * 4 = {}'.format(n, n4))\n",
    "print('{} * 5 = {}'.format(n, n5))\n",
    "print('{} * 6 = {}'.format(n, n6))\n",
    "print('{} * 7 = {}'.format(n, n7))\n",
    "print('{} * 8 = {}'.format(n, n8))\n",
    "print('{} * 9 = {}'.format(n, n9))\n",
    "print('{} * 10 = {}'.format(n, n10))\n",
    "print('================')"
   ]
  },
  {
   "cell_type": "code",
   "execution_count": null,
   "metadata": {},
   "outputs": [],
   "source": [
    "\n"
   ]
  },
  {
   "cell_type": "code",
   "execution_count": null,
   "metadata": {},
   "outputs": [],
   "source": []
  }
 ],
 "metadata": {
  "kernelspec": {
   "display_name": "Python 3",
   "language": "python",
   "name": "python3"
  },
  "language_info": {
   "codemirror_mode": {
    "name": "ipython",
    "version": 3
   },
   "file_extension": ".py",
   "mimetype": "text/x-python",
   "name": "python",
   "nbconvert_exporter": "python",
   "pygments_lexer": "ipython3",
   "version": "3.6.5"
  }
 },
 "nbformat": 4,
 "nbformat_minor": 2
}
