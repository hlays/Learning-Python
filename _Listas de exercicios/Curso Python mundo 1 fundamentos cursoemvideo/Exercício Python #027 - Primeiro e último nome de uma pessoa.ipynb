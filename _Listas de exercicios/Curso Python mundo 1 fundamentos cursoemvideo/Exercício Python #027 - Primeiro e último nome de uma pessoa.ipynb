{
 "cells": [
  {
   "cell_type": "code",
   "execution_count": null,
   "metadata": {},
   "outputs": [],
   "source": [
    "print('''Exercício Python 027: Faça um programa que leia o nome completo de uma pessoa, \n",
    "\\nmostrando em seguida o primeiro e o último nome separadamente.''')\n",
    "a = str(input(\"Digite seu nome completo\").title).strip()\n",
    "nome = a.split()\n",
    "\n",
    "print('\\nSeu primeiro nome é: ',nome[0])\n",
    "\n",
    "print('\\nSeu ultimo nome é: ',nome[-1])\n",
    "\n",
    "print('Muito prazer em te conhecer!')\n"
   ]
  }
 ],
 "metadata": {
  "kernelspec": {
   "display_name": "Python 3",
   "language": "python",
   "name": "python3"
  },
  "language_info": {
   "codemirror_mode": {
    "name": "ipython",
    "version": 3
   },
   "file_extension": ".py",
   "mimetype": "text/x-python",
   "name": "python",
   "nbconvert_exporter": "python",
   "pygments_lexer": "ipython3",
   "version": "3.6.5"
  }
 },
 "nbformat": 4,
 "nbformat_minor": 2
}
